{
 "cells": [
  {
   "cell_type": "markdown",
   "metadata": {
    "colab_type": "text",
    "id": "IRY2DUkwwSGX"
   },
   "source": [
    "#Estimating the Test Error\n",
    "\n",
    "We learned about _training error_, which is the error calculated on the training data. Training error is easy to calculate because the true labels are available in the training data. However, training error is not always a good measure of a model's quality, since a model that _overfits_ to the training data may have artificially low training error.\n",
    "\n",
    "Ideally, we would like to evaluate regression models based on their _test error_, which is the error calculated on the test data. The problem with test error is that it is usually impossible to calculate, since the true labels are rarely available in the test data. In this section, we discuss strategies for estimating the test error using only the training data."
   ]
  },
  {
   "cell_type": "code",
   "execution_count": 1,
   "metadata": {
    "colab": {},
    "colab_type": "code",
    "id": "q4lF5GaYwSGb"
   },
   "outputs": [],
   "source": [
    "import pandas as pd\n",
    "import numpy as np\n",
    "\n",
    "# Extract the training data.\n",
    "\n",
    "bordeaux_df = pd.read_csv(\"bordeaux.csv\",\n",
    "                          index_col=\"year\")\n",
    "bordeaux_train = bordeaux_df.loc[:1980].copy()\n",
    "bordeaux_train[\"log(price)\"] = np.log(bordeaux_train[\"price\"])"
   ]
  },
  {
   "cell_type": "markdown",
   "metadata": {
    "colab_type": "text",
    "id": "OFJ697u6wSGh"
   },
   "source": [
    "## Validation Error\n",
    "\n",
    "To estimate the test error, we split the training data into a _training set_ and a _validation set_. First, the model is fit to just the data in the training set. Then, the model is evaluated based on its predictions on the validation set. Because the model did not train on any of the labels in the validation set, the validation set essentially plays the role of the test data, even though it was carved out of the training data.\n",
    "\n",
    "The prediction error on the validation set is known as the _validation error_. The validation error is an approximation to the test error."
   ]
  },
  {
   "cell_type": "markdown",
   "metadata": {
    "colab_type": "text",
    "id": "TM0_UeM0wSGi"
   },
   "source": [
    "To split our data into training and validation sets, we can use the `.sample()` function in `pandas`. Let's use this to split our data into two equal halves, which we will call `train` and `val`."
   ]
  },
  {
   "cell_type": "code",
   "execution_count": 2,
   "metadata": {
    "colab": {},
    "colab_type": "code",
    "id": "knhAhaUFwSGj"
   },
   "outputs": [
    {
     "data": {
      "text/html": [
       "<div>\n",
       "<style scoped>\n",
       "    .dataframe tbody tr th:only-of-type {\n",
       "        vertical-align: middle;\n",
       "    }\n",
       "\n",
       "    .dataframe tbody tr th {\n",
       "        vertical-align: top;\n",
       "    }\n",
       "\n",
       "    .dataframe thead th {\n",
       "        text-align: right;\n",
       "    }\n",
       "</style>\n",
       "<table border=\"1\" class=\"dataframe\">\n",
       "  <thead>\n",
       "    <tr style=\"text-align: right;\">\n",
       "      <th></th>\n",
       "      <th>price</th>\n",
       "      <th>summer</th>\n",
       "      <th>har</th>\n",
       "      <th>sep</th>\n",
       "      <th>win</th>\n",
       "      <th>age</th>\n",
       "      <th>log(price)</th>\n",
       "    </tr>\n",
       "    <tr>\n",
       "      <th>year</th>\n",
       "      <th></th>\n",
       "      <th></th>\n",
       "      <th></th>\n",
       "      <th></th>\n",
       "      <th></th>\n",
       "      <th></th>\n",
       "      <th></th>\n",
       "    </tr>\n",
       "  </thead>\n",
       "  <tbody>\n",
       "    <tr>\n",
       "      <th>1980</th>\n",
       "      <td>14.0</td>\n",
       "      <td>16.0</td>\n",
       "      <td>74</td>\n",
       "      <td>18.4</td>\n",
       "      <td>578</td>\n",
       "      <td>12</td>\n",
       "      <td>2.639057</td>\n",
       "    </tr>\n",
       "    <tr>\n",
       "      <th>1957</th>\n",
       "      <td>22.0</td>\n",
       "      <td>16.1</td>\n",
       "      <td>110</td>\n",
       "      <td>16.2</td>\n",
       "      <td>420</td>\n",
       "      <td>35</td>\n",
       "      <td>3.091042</td>\n",
       "    </tr>\n",
       "    <tr>\n",
       "      <th>1952</th>\n",
       "      <td>37.0</td>\n",
       "      <td>17.1</td>\n",
       "      <td>160</td>\n",
       "      <td>14.3</td>\n",
       "      <td>600</td>\n",
       "      <td>40</td>\n",
       "      <td>3.610918</td>\n",
       "    </tr>\n",
       "    <tr>\n",
       "      <th>1964</th>\n",
       "      <td>31.0</td>\n",
       "      <td>17.3</td>\n",
       "      <td>96</td>\n",
       "      <td>18.8</td>\n",
       "      <td>402</td>\n",
       "      <td>28</td>\n",
       "      <td>3.433987</td>\n",
       "    </tr>\n",
       "    <tr>\n",
       "      <th>1979</th>\n",
       "      <td>21.0</td>\n",
       "      <td>16.2</td>\n",
       "      <td>122</td>\n",
       "      <td>17.3</td>\n",
       "      <td>717</td>\n",
       "      <td>13</td>\n",
       "      <td>3.044522</td>\n",
       "    </tr>\n",
       "    <tr>\n",
       "      <th>1973</th>\n",
       "      <td>16.0</td>\n",
       "      <td>17.1</td>\n",
       "      <td>123</td>\n",
       "      <td>17.9</td>\n",
       "      <td>376</td>\n",
       "      <td>19</td>\n",
       "      <td>2.772589</td>\n",
       "    </tr>\n",
       "    <tr>\n",
       "      <th>1959</th>\n",
       "      <td>66.0</td>\n",
       "      <td>17.5</td>\n",
       "      <td>187</td>\n",
       "      <td>18.7</td>\n",
       "      <td>485</td>\n",
       "      <td>33</td>\n",
       "      <td>4.189655</td>\n",
       "    </tr>\n",
       "    <tr>\n",
       "      <th>1961</th>\n",
       "      <td>100.0</td>\n",
       "      <td>17.3</td>\n",
       "      <td>38</td>\n",
       "      <td>20.4</td>\n",
       "      <td>830</td>\n",
       "      <td>31</td>\n",
       "      <td>4.605170</td>\n",
       "    </tr>\n",
       "    <tr>\n",
       "      <th>1966</th>\n",
       "      <td>47.0</td>\n",
       "      <td>16.5</td>\n",
       "      <td>86</td>\n",
       "      <td>18.4</td>\n",
       "      <td>819</td>\n",
       "      <td>26</td>\n",
       "      <td>3.850148</td>\n",
       "    </tr>\n",
       "    <tr>\n",
       "      <th>1953</th>\n",
       "      <td>63.0</td>\n",
       "      <td>16.7</td>\n",
       "      <td>80</td>\n",
       "      <td>17.3</td>\n",
       "      <td>690</td>\n",
       "      <td>39</td>\n",
       "      <td>4.143135</td>\n",
       "    </tr>\n",
       "    <tr>\n",
       "      <th>1971</th>\n",
       "      <td>27.0</td>\n",
       "      <td>16.8</td>\n",
       "      <td>112</td>\n",
       "      <td>16.9</td>\n",
       "      <td>551</td>\n",
       "      <td>21</td>\n",
       "      <td>3.295837</td>\n",
       "    </tr>\n",
       "    <tr>\n",
       "      <th>1960</th>\n",
       "      <td>14.0</td>\n",
       "      <td>16.4</td>\n",
       "      <td>290</td>\n",
       "      <td>15.8</td>\n",
       "      <td>763</td>\n",
       "      <td>32</td>\n",
       "      <td>2.639057</td>\n",
       "    </tr>\n",
       "    <tr>\n",
       "      <th>1955</th>\n",
       "      <td>45.0</td>\n",
       "      <td>17.1</td>\n",
       "      <td>130</td>\n",
       "      <td>16.8</td>\n",
       "      <td>502</td>\n",
       "      <td>37</td>\n",
       "      <td>3.806662</td>\n",
       "    </tr>\n",
       "    <tr>\n",
       "      <th>1976</th>\n",
       "      <td>25.0</td>\n",
       "      <td>17.6</td>\n",
       "      <td>247</td>\n",
       "      <td>16.1</td>\n",
       "      <td>418</td>\n",
       "      <td>16</td>\n",
       "      <td>3.218876</td>\n",
       "    </tr>\n",
       "  </tbody>\n",
       "</table>\n",
       "</div>"
      ],
      "text/plain": [
       "      price  summer  har   sep  win  age  log(price)\n",
       "year                                                \n",
       "1980   14.0    16.0   74  18.4  578   12    2.639057\n",
       "1957   22.0    16.1  110  16.2  420   35    3.091042\n",
       "1952   37.0    17.1  160  14.3  600   40    3.610918\n",
       "1964   31.0    17.3   96  18.8  402   28    3.433987\n",
       "1979   21.0    16.2  122  17.3  717   13    3.044522\n",
       "1973   16.0    17.1  123  17.9  376   19    2.772589\n",
       "1959   66.0    17.5  187  18.7  485   33    4.189655\n",
       "1961  100.0    17.3   38  20.4  830   31    4.605170\n",
       "1966   47.0    16.5   86  18.4  819   26    3.850148\n",
       "1953   63.0    16.7   80  17.3  690   39    4.143135\n",
       "1971   27.0    16.8  112  16.9  551   21    3.295837\n",
       "1960   14.0    16.4  290  15.8  763   32    2.639057\n",
       "1955   45.0    17.1  130  16.8  502   37    3.806662\n",
       "1976   25.0    17.6  247  16.1  418   16    3.218876"
      ]
     },
     "execution_count": 2,
     "metadata": {},
     "output_type": "execute_result"
    }
   ],
   "source": [
    "train = bordeaux_train.sample(frac=.5)\n",
    "val = bordeaux_train.drop(train.index)\n",
    "\n",
    "train"
   ]
  },
  {
   "cell_type": "markdown",
   "metadata": {
    "colab_type": "text",
    "id": "UnBEofgcwSGr"
   },
   "source": [
    "Now let's use these training/validation sets to approximate the test MSE of the 5-nearest neighbors model that we fit in Chapter 5.2."
   ]
  },
  {
   "cell_type": "code",
   "execution_count": 3,
   "metadata": {
    "colab": {},
    "colab_type": "code",
    "id": "27lsWT1jwSGs"
   },
   "outputs": [
    {
     "ename": "SyntaxError",
     "evalue": "invalid syntax (127438805.py, line 9)",
     "output_type": "error",
     "traceback": [
      "\u001b[1;36m  File \u001b[1;32m\"C:\\Users\\Ivan\\AppData\\Local\\Temp\\ipykernel_10468\\127438805.py\"\u001b[1;36m, line \u001b[1;32m9\u001b[0m\n\u001b[1;33m    x_train.\u001b[0m\n\u001b[1;37m            ^\u001b[0m\n\u001b[1;31mSyntaxError\u001b[0m\u001b[1;31m:\u001b[0m invalid syntax\n"
     ]
    }
   ],
   "source": [
    "from sklearn.preprocessing import StandardScaler\n",
    "from sklearn.neighbors import KNeighborsRegressor\n",
    "from sklearn.pipeline import make_pipeline\n",
    "\n",
    "# extract features and label from training set\n",
    "X_train = train[[\"win\", \"summer\"]]\n",
    "y_train = train[\"log(price)\"]\n",
    "\n",
    "x_train.\n",
    "\n",
    "# define pipeline and fit to training set\n",
    "pipeline = make_pipeline(\n",
    "          StandardScaler(),\n",
    "          KNeighborsRegressor(n_neighbors=5)\n",
    ")\n",
    "pipeline.fit(X=X_train, y=y_train)"
   ]
  },
  {
   "cell_type": "markdown",
   "metadata": {
    "colab_type": "text",
    "id": "XGyACJ3owSGy"
   },
   "source": [
    "We make predictions on the validation set and calculate the validation RMSE:"
   ]
  },
  {
   "cell_type": "code",
   "execution_count": null,
   "metadata": {
    "colab": {},
    "colab_type": "code",
    "id": "FxOBTtpGwSG0"
   },
   "outputs": [
    {
     "data": {
      "text/plain": [
       "0.5934339137629878"
      ]
     },
     "execution_count": 4,
     "metadata": {},
     "output_type": "execute_result"
    }
   ],
   "source": [
    "from sklearn.metrics import mean_squared_error\n",
    "\n",
    "# extract features and label from validation set\n",
    "X_val = val[[\"win\", \"summer\"]]\n",
    "y_val = val[\"log(price)\"]\n",
    "\n",
    "# get model's predictions on validation set\n",
    "y_val_ = pipeline.predict(X_val)\n",
    "\n",
    "# calculate RMSE on validation set\n",
    "rmse = np.sqrt(mean_squared_error(y_val, y_val_))\n",
    "rmse"
   ]
  },
  {
   "cell_type": "markdown",
   "metadata": {
    "colab_type": "text",
    "id": "ciJmVtvZwSG4"
   },
   "source": [
    "Notice that the test error is higher than the training error that we calculated in the previous lesson. In general, this will be true. It is harder for a model to predict for new observations it has not seen, than for observations it has seen!"
   ]
  },
  {
   "cell_type": "markdown",
   "metadata": {
    "colab_type": "text",
    "id": "t2JE820swSG6"
   },
   "source": [
    "## Cross Validation\n",
    "\n",
    "The validation error above was calculated using only 50% of the training data, since we split the training data in half to create the validation set. As a result, the estimate is noisy.\n",
    "\n",
    "There is a cheap way to obtain a second opinion about how well our model will do on future data. Previously, we split our data at random into two halves, fitting the model to the first half and evaluating it on the second half. Because the model has not already seen the second half of the data, this approximates how well the model would perform on future data. \n",
    "\n",
    "But the way we split our data was arbitrary. We might as well swap the roles of the two halves, fitting the model to the _second_ half and evaluating it on the _first_ half. As long as the model is always evaluated on data that is different from the data that was used to train it, we have a valid estimate of test error. A schematic of this approach, known as _cross-validation_, is shown below.\n",
    "\n",
    "![](https://github.com/dlsun/pods/blob/master/05-Regression-Models/cross-validation.png?raw=1)\n",
    "\n",
    "Because we will be doing all computations twice, just with different data, let's wrap the $k$-nearest neighbors algorithm above into a function called `get_val_error()`, that computes the validation error given training and validation data."
   ]
  },
  {
   "cell_type": "code",
   "execution_count": null,
   "metadata": {
    "colab": {},
    "colab_type": "code",
    "id": "gh5vfQLmwSG6"
   },
   "outputs": [],
   "source": [
    "def get_val_error(train, val):\n",
    "    \n",
    "    # extract features and label from training set.\n",
    "    X_train = train[[\"win\", \"summer\"]]\n",
    "    y_train = train[\"log(price)\"]\n",
    "    \n",
    "    # eefine pipeline and fit to training set\n",
    "    pipeline = make_pipeline(\n",
    "          StandardScaler(),\n",
    "          KNeighborsRegressor(n_neighbors=5)\n",
    "    )\n",
    "    pipeline.fit(X=X_train, y=y_train)\n",
    "    \n",
    "    # extract features and label from validation set\n",
    "    X_val = val[[\"win\", \"summer\"]]\n",
    "    y_val = val[\"log(price)\"]\n",
    "    \n",
    "    # get model's predictions on validation set\n",
    "    y_val_ = pipeline.predict(X_val)\n",
    "\n",
    "    # calculate RMSE on validation set\n",
    "    rmse = np.sqrt(mean_squared_error(y_val, y_val_))\n",
    "    \n",
    "    return rmse"
   ]
  },
  {
   "cell_type": "markdown",
   "metadata": {
    "colab_type": "text",
    "id": "PJiEMg2YwSG9"
   },
   "source": [
    "If we apply this function to the training and validation sets from earlier, we get the same estimate of the test error."
   ]
  },
  {
   "cell_type": "code",
   "execution_count": null,
   "metadata": {
    "colab": {},
    "colab_type": "code",
    "id": "0S5FaE45wSG-"
   },
   "outputs": [
    {
     "data": {
      "text/plain": [
       "0.5934339137629878"
      ]
     },
     "execution_count": 6,
     "metadata": {},
     "output_type": "execute_result"
    }
   ],
   "source": [
    "get_val_error(train, val)"
   ]
  },
  {
   "cell_type": "markdown",
   "metadata": {
    "colab_type": "text",
    "id": "VbHcEHYRwSHA"
   },
   "source": [
    "But if we reverse the roles of the training and validation sets, we get another estimate of the test error."
   ]
  },
  {
   "cell_type": "code",
   "execution_count": null,
   "metadata": {
    "colab": {},
    "colab_type": "code",
    "id": "k21Av7jAwSHC"
   },
   "outputs": [
    {
     "data": {
      "text/plain": [
       "0.6989515061348369"
      ]
     },
     "execution_count": 7,
     "metadata": {},
     "output_type": "execute_result"
    }
   ],
   "source": [
    "get_val_error(val, train)"
   ]
  },
  {
   "cell_type": "markdown",
   "metadata": {
    "colab_type": "text",
    "id": "Y1ZVZ2i-wSHG"
   },
   "source": [
    "Now we have two, somewhat independent estimates of the test error. It is common to average the two numbers to obtain an overall estimate of the test error, called the _cross-validation estimate of test error_. Notice that the cross-validation estimate uses each observation in the data exactly once. We make a prediction for each observation, but always using a model that was trained on data that does not include that observation."
   ]
  },
  {
   "cell_type": "markdown",
   "metadata": {
    "colab_type": "text",
    "id": "jIjOMuqcwSHH"
   },
   "source": [
    "## Cross-Validation in scikit-learn\n",
    "\n",
    "As you know by now, scikit-learn provides functions that automate routine tasks of machine learning. For cross-validation, there is a function, `cross_val_score`, that takes in a model (or pipeline), the training data, and a scoring function, and carries out all aspects of cross-validation, including\n",
    "\n",
    "1. splitting the training data into training and validation sets\n",
    "2. fitting the model to each training set\n",
    "3. calculating the model's predictions on the corresponding validation set\n",
    "4. calculating the score of the predictions on each validation set."
   ]
  },
  {
   "cell_type": "code",
   "execution_count": null,
   "metadata": {
    "colab": {},
    "colab_type": "code",
    "id": "hYSufCjlwSHI"
   },
   "outputs": [
    {
     "data": {
      "text/plain": [
       "array([-0.47767636, -0.38655855])"
      ]
     },
     "execution_count": 8,
     "metadata": {},
     "output_type": "execute_result"
    }
   ],
   "source": [
    "from sklearn.model_selection import cross_val_score\n",
    "\n",
    "scores = cross_val_score(pipeline, \n",
    "                         X=bordeaux_train[[\"win\", \"summer\"]],\n",
    "                         y=bordeaux_train[\"log(price)\"],\n",
    "                         scoring=\"neg_mean_squared_error\",\n",
    "                         cv=2)\n",
    "scores"
   ]
  },
  {
   "cell_type": "markdown",
   "metadata": {
    "colab_type": "text",
    "id": "SgiIBYoswSHM"
   },
   "source": [
    "First, notice that there are 2 scores. This is because scikit-learn calculated a score from each half of the data when that half served as the validation set.\n",
    "\n",
    "Second, observe that the scores are negative. This is because scikit-learn requires that a \"score\" be something that ought to be maximized. Since we want to minimize the mean-squared error, we want to maximize the *negative* mean-squared error. Therefore, the scores that are reported here are the negative of the MSE.\n",
    "\n",
    "To calculate the RMSE, we negate the negative sign and take a square root."
   ]
  },
  {
   "cell_type": "code",
   "execution_count": null,
   "metadata": {
    "colab": {},
    "colab_type": "code",
    "id": "cYNXVJGAwSHN"
   },
   "outputs": [
    {
     "data": {
      "text/plain": [
       "array([0.69114134, 0.62173833])"
      ]
     },
     "execution_count": 9,
     "metadata": {},
     "output_type": "execute_result"
    }
   ],
   "source": [
    "np.sqrt(-scores)"
   ]
  },
  {
   "cell_type": "markdown",
   "metadata": {
    "colab_type": "text",
    "id": "MAI8ViZcwSHR"
   },
   "source": [
    "The average of these two scores is the cross-validation estimate of test error."
   ]
  },
  {
   "cell_type": "code",
   "execution_count": null,
   "metadata": {
    "colab": {},
    "colab_type": "code",
    "id": "z7YLXSOcwSHS"
   },
   "outputs": [
    {
     "data": {
      "text/plain": [
       "0.6564398373317621"
      ]
     },
     "execution_count": 10,
     "metadata": {},
     "output_type": "execute_result"
    }
   ],
   "source": [
    "np.sqrt(-scores).mean()"
   ]
  },
  {
   "cell_type": "markdown",
   "metadata": {
    "colab_type": "text",
    "id": "rKsW_3PiwSHV"
   },
   "source": [
    "## $K$-Fold Cross Validation\n",
    "\n",
    "One problem with splitting the training data into two halves is that the model is now trained on only half the amount of data. This model will likely perform worse than the actual model, which is trained on all of the training data. So the cross-validation estimate of test error is unnecessarily pessimistic.\n",
    "\n",
    "We would like the size of the training set to be closer to the size of the original training data. We can do this by splitting the data into more than two subsamples. In general, we can split the data into $k$ subsamples, alternately training the data on $k-1$ subsamples and evaluating the model on the $1$ remaining subsample, i.e., the validation set. This produces $k$ somewhat independent estimates of the test error. This procedure is known as **$k$-fold cross validation**. (Be careful not to confuse this $k$ with the $k$ in $k$-nearest neighbors.) In hindsight, the  cross validation that we were doing previously is $2$-fold cross validation.\n",
    "\n",
    "A schematic of $4$-fold cross validation is shown below.\n",
    "\n",
    "![](https://github.com/dlsun/pods/blob/master/05-Regression-Models/k-folds.png?raw=1)\n",
    "\n",
    "Implementing $k$-fold cross validation in scikit-learn is easy. We simply set the `cv=` parameter to the desired number of folds. For example, the following code carries out $4$-fold cross validation."
   ]
  },
  {
   "cell_type": "code",
   "execution_count": null,
   "metadata": {
    "colab": {},
    "colab_type": "code",
    "id": "ooh9RLfRwSHW"
   },
   "outputs": [
    {
     "data": {
      "text/plain": [
       "array([-0.47213584, -0.30601689, -0.36874833, -0.11290777])"
      ]
     },
     "execution_count": 11,
     "metadata": {},
     "output_type": "execute_result"
    }
   ],
   "source": [
    "scores = cross_val_score(pipeline, \n",
    "                         X=bordeaux_train[[\"win\", \"summer\"]],\n",
    "                         y=bordeaux_train[\"log(price)\"],\n",
    "                         scoring=\"neg_mean_squared_error\",\n",
    "                         cv=4)\n",
    "scores"
   ]
  },
  {
   "cell_type": "markdown",
   "metadata": {
    "colab_type": "text",
    "id": "CaNyndUkwSHZ"
   },
   "source": [
    "Notice that $k$ scores are produced, one from each fold. These scores can be averaged to produce a single estimate of the test error."
   ]
  },
  {
   "cell_type": "code",
   "execution_count": null,
   "metadata": {
    "colab": {},
    "colab_type": "code",
    "id": "RNBeVkV_wSHZ"
   },
   "outputs": [
    {
     "data": {
      "text/plain": [
       "0.545893343925109"
      ]
     },
     "execution_count": 12,
     "metadata": {},
     "output_type": "execute_result"
    }
   ],
   "source": [
    "np.sqrt(-scores).mean()"
   ]
  }
 ],
 "metadata": {
  "colab": {
   "name": "5.5 Estimating the Test Error.ipynb",
   "provenance": []
  },
  "interpreter": {
   "hash": "fc65d87ab01436c3f92763b76320937eebde89d2fffbd256db799eec27fdcf69"
  },
  "kernelspec": {
   "display_name": "Python 3.7.7 ('venv': venv)",
   "language": "python",
   "name": "python3"
  },
  "language_info": {
   "codemirror_mode": {
    "name": "ipython",
    "version": 3
   },
   "file_extension": ".py",
   "mimetype": "text/x-python",
   "name": "python",
   "nbconvert_exporter": "python",
   "pygments_lexer": "ipython3",
   "version": "3.7.7"
  }
 },
 "nbformat": 4,
 "nbformat_minor": 1
}

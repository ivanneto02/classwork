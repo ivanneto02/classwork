{
 "cells": [
  {
   "cell_type": "markdown",
   "metadata": {
    "colab_type": "text",
    "id": "1aPshrzKvAlN"
   },
   "source": [
    "# Retrieval Practice and Learning\n",
    "\n",
    "# By Ivan Neto\n",
    "\n",
    "What is the most effective way to learn a subject? Many students focus exclusively on the _encoding_ process---that is, how to get the knowledge into memory in the first place. For example, taking notes is an activity for encoding knowledge.\n",
    "\n",
    "_Retrieval_, on the other hand, is the process of reconstructing that knowledge from memory. [Karpicke and Blunt](http://science.sciencemag.org/content/331/6018/772) (2011) demonstrated that _retrieval_ is more effective for learning than activites designed to promote effective encoding. They conducted an experiment in which subjects had to learn about sea otters by reading a passage. Subjects were randomly assigned to one of two conditions: some were instructed to create a [concept map](https://en.wikipedia.org/wiki/Concept_map) as they read the passage, while others were instructed to practice retrieval (i.e., read the passage, recall as much as they could, read the text again, and recall again). The two main measurements they recorded were:\n",
    "\n",
    "1. each subject's score on a follow-up learning test one week later\n",
    "2. each subject's _prediction_ of how well they would do on that test\n",
    "\n",
    "In this lab, you will analyze data from a _replication_ of Karpicke and Blunt's experiment, conducted by Buttrick _et al_.\n",
    "- The data file is : data.csv.\n",
    "- The codebook (explaining what the variables mean) is : codebook.csv."
   ]
  },
  {
   "cell_type": "code",
   "execution_count": 1,
   "metadata": {
    "colab": {},
    "colab_type": "code",
    "id": "aA3QAljEvAlO"
   },
   "outputs": [
    {
     "data": {
      "text/html": [
       "<div>\n",
       "<style scoped>\n",
       "    .dataframe tbody tr th:only-of-type {\n",
       "        vertical-align: middle;\n",
       "    }\n",
       "\n",
       "    .dataframe tbody tr th {\n",
       "        vertical-align: top;\n",
       "    }\n",
       "\n",
       "    .dataframe thead th {\n",
       "        text-align: right;\n",
       "    }\n",
       "</style>\n",
       "<table border=\"1\" class=\"dataframe\">\n",
       "  <thead>\n",
       "    <tr style=\"text-align: right;\">\n",
       "      <th></th>\n",
       "      <th>ID</th>\n",
       "      <th>Age</th>\n",
       "      <th>Gender</th>\n",
       "      <th>Date.P1</th>\n",
       "      <th>Date.P2</th>\n",
       "      <th>Condition</th>\n",
       "      <th>IC.1</th>\n",
       "      <th>IC.2</th>\n",
       "      <th>Comp.1</th>\n",
       "      <th>Comp.2</th>\n",
       "      <th>PR.1</th>\n",
       "      <th>PR.2</th>\n",
       "      <th>MCS.1</th>\n",
       "      <th>Scorer.1</th>\n",
       "      <th>MCS.2</th>\n",
       "      <th>Scorer.2</th>\n",
       "      <th>MCS.avg</th>\n",
       "      <th>R1CS.1</th>\n",
       "      <th>Scorer.1.1</th>\n",
       "      <th>R1CS.2</th>\n",
       "      <th>Scorer.2.1</th>\n",
       "      <th>R1CS.avg</th>\n",
       "      <th>R2CS.1</th>\n",
       "      <th>Scorer.1.2</th>\n",
       "      <th>R2CS.2</th>\n",
       "      <th>Scorer.2.2</th>\n",
       "      <th>R2CS.avg</th>\n",
       "      <th>TS.1</th>\n",
       "      <th>Scorer.1.3</th>\n",
       "      <th>TS.2</th>\n",
       "      <th>Scorer.2.3</th>\n",
       "      <th>TS.avg</th>\n",
       "      <th>Exc.1</th>\n",
       "      <th>Exc.2</th>\n",
       "      <th>Collection</th>\n",
       "    </tr>\n",
       "  </thead>\n",
       "  <tbody>\n",
       "    <tr>\n",
       "      <th>0</th>\n",
       "      <td>KB1</td>\n",
       "      <td>18</td>\n",
       "      <td>Female</td>\n",
       "      <td>11/21/16</td>\n",
       "      <td>11/28/16</td>\n",
       "      <td>Concept</td>\n",
       "      <td>1</td>\n",
       "      <td>1</td>\n",
       "      <td>1</td>\n",
       "      <td>1</td>\n",
       "      <td>1.0</td>\n",
       "      <td>0.80</td>\n",
       "      <td>0.750</td>\n",
       "      <td>NK</td>\n",
       "      <td>0.670</td>\n",
       "      <td>TT</td>\n",
       "      <td>0.7100</td>\n",
       "      <td>NaN</td>\n",
       "      <td>NaN</td>\n",
       "      <td>NaN</td>\n",
       "      <td>NaN</td>\n",
       "      <td>NaN</td>\n",
       "      <td>NaN</td>\n",
       "      <td>NaN</td>\n",
       "      <td>NaN</td>\n",
       "      <td>NaN</td>\n",
       "      <td>NaN</td>\n",
       "      <td>0.36</td>\n",
       "      <td>NK</td>\n",
       "      <td>0.42</td>\n",
       "      <td>MS</td>\n",
       "      <td>0.39</td>\n",
       "      <td>0</td>\n",
       "      <td>0</td>\n",
       "      <td>1</td>\n",
       "    </tr>\n",
       "    <tr>\n",
       "      <th>1</th>\n",
       "      <td>KB2</td>\n",
       "      <td>18</td>\n",
       "      <td>Male</td>\n",
       "      <td>11/21/16</td>\n",
       "      <td>11/28/16</td>\n",
       "      <td>Concept</td>\n",
       "      <td>1</td>\n",
       "      <td>1</td>\n",
       "      <td>1</td>\n",
       "      <td>1</td>\n",
       "      <td>0.0</td>\n",
       "      <td>0.70</td>\n",
       "      <td>0.400</td>\n",
       "      <td>NK</td>\n",
       "      <td>0.367</td>\n",
       "      <td>TT</td>\n",
       "      <td>0.3835</td>\n",
       "      <td>NaN</td>\n",
       "      <td>NaN</td>\n",
       "      <td>NaN</td>\n",
       "      <td>NaN</td>\n",
       "      <td>NaN</td>\n",
       "      <td>NaN</td>\n",
       "      <td>NaN</td>\n",
       "      <td>NaN</td>\n",
       "      <td>NaN</td>\n",
       "      <td>NaN</td>\n",
       "      <td>0.48</td>\n",
       "      <td>MS</td>\n",
       "      <td>0.36</td>\n",
       "      <td>NK</td>\n",
       "      <td>0.42</td>\n",
       "      <td>0</td>\n",
       "      <td>0</td>\n",
       "      <td>1</td>\n",
       "    </tr>\n",
       "    <tr>\n",
       "      <th>2</th>\n",
       "      <td>KB3</td>\n",
       "      <td>18</td>\n",
       "      <td>Male</td>\n",
       "      <td>11/21/16</td>\n",
       "      <td>11/28/16</td>\n",
       "      <td>Concept</td>\n",
       "      <td>1</td>\n",
       "      <td>1</td>\n",
       "      <td>1</td>\n",
       "      <td>1</td>\n",
       "      <td>0.0</td>\n",
       "      <td>0.70</td>\n",
       "      <td>0.433</td>\n",
       "      <td>NK</td>\n",
       "      <td>0.550</td>\n",
       "      <td>MS</td>\n",
       "      <td>0.4915</td>\n",
       "      <td>NaN</td>\n",
       "      <td>NaN</td>\n",
       "      <td>NaN</td>\n",
       "      <td>NaN</td>\n",
       "      <td>NaN</td>\n",
       "      <td>NaN</td>\n",
       "      <td>NaN</td>\n",
       "      <td>NaN</td>\n",
       "      <td>NaN</td>\n",
       "      <td>NaN</td>\n",
       "      <td>0.08</td>\n",
       "      <td>NK</td>\n",
       "      <td>0.08</td>\n",
       "      <td>MS</td>\n",
       "      <td>0.08</td>\n",
       "      <td>0</td>\n",
       "      <td>0</td>\n",
       "      <td>1</td>\n",
       "    </tr>\n",
       "    <tr>\n",
       "      <th>3</th>\n",
       "      <td>KB4</td>\n",
       "      <td>19</td>\n",
       "      <td>Female</td>\n",
       "      <td>11/21/16</td>\n",
       "      <td>11/28/16</td>\n",
       "      <td>Concept</td>\n",
       "      <td>1</td>\n",
       "      <td>1</td>\n",
       "      <td>1</td>\n",
       "      <td>1</td>\n",
       "      <td>0.0</td>\n",
       "      <td>0.70</td>\n",
       "      <td>0.317</td>\n",
       "      <td>NK</td>\n",
       "      <td>0.333</td>\n",
       "      <td>MS</td>\n",
       "      <td>0.3250</td>\n",
       "      <td>NaN</td>\n",
       "      <td>NaN</td>\n",
       "      <td>NaN</td>\n",
       "      <td>NaN</td>\n",
       "      <td>NaN</td>\n",
       "      <td>NaN</td>\n",
       "      <td>NaN</td>\n",
       "      <td>NaN</td>\n",
       "      <td>NaN</td>\n",
       "      <td>NaN</td>\n",
       "      <td>0.44</td>\n",
       "      <td>MS</td>\n",
       "      <td>0.42</td>\n",
       "      <td>NK</td>\n",
       "      <td>0.43</td>\n",
       "      <td>0</td>\n",
       "      <td>0</td>\n",
       "      <td>1</td>\n",
       "    </tr>\n",
       "    <tr>\n",
       "      <th>4</th>\n",
       "      <td>KB5</td>\n",
       "      <td>19</td>\n",
       "      <td>Female</td>\n",
       "      <td>11/22/16</td>\n",
       "      <td>11/29/16</td>\n",
       "      <td>Concept</td>\n",
       "      <td>1</td>\n",
       "      <td>1</td>\n",
       "      <td>1</td>\n",
       "      <td>1</td>\n",
       "      <td>0.0</td>\n",
       "      <td>0.95</td>\n",
       "      <td>0.683</td>\n",
       "      <td>NK</td>\n",
       "      <td>0.717</td>\n",
       "      <td>MS</td>\n",
       "      <td>0.7000</td>\n",
       "      <td>NaN</td>\n",
       "      <td>NaN</td>\n",
       "      <td>NaN</td>\n",
       "      <td>NaN</td>\n",
       "      <td>NaN</td>\n",
       "      <td>NaN</td>\n",
       "      <td>NaN</td>\n",
       "      <td>NaN</td>\n",
       "      <td>NaN</td>\n",
       "      <td>NaN</td>\n",
       "      <td>0.26</td>\n",
       "      <td>NK</td>\n",
       "      <td>0.28</td>\n",
       "      <td>MS</td>\n",
       "      <td>0.27</td>\n",
       "      <td>0</td>\n",
       "      <td>0</td>\n",
       "      <td>1</td>\n",
       "    </tr>\n",
       "    <tr>\n",
       "      <th>5</th>\n",
       "      <td>KB6</td>\n",
       "      <td>19</td>\n",
       "      <td>Male</td>\n",
       "      <td>11/22/16</td>\n",
       "      <td>11/29/16</td>\n",
       "      <td>Concept</td>\n",
       "      <td>1</td>\n",
       "      <td>1</td>\n",
       "      <td>1</td>\n",
       "      <td>1</td>\n",
       "      <td>1.0</td>\n",
       "      <td>0.60</td>\n",
       "      <td>0.817</td>\n",
       "      <td>NK</td>\n",
       "      <td>0.783</td>\n",
       "      <td>MS</td>\n",
       "      <td>0.8000</td>\n",
       "      <td>NaN</td>\n",
       "      <td>NaN</td>\n",
       "      <td>NaN</td>\n",
       "      <td>NaN</td>\n",
       "      <td>NaN</td>\n",
       "      <td>NaN</td>\n",
       "      <td>NaN</td>\n",
       "      <td>NaN</td>\n",
       "      <td>NaN</td>\n",
       "      <td>NaN</td>\n",
       "      <td>0.40</td>\n",
       "      <td>NK</td>\n",
       "      <td>0.46</td>\n",
       "      <td>MS</td>\n",
       "      <td>0.43</td>\n",
       "      <td>0</td>\n",
       "      <td>0</td>\n",
       "      <td>1</td>\n",
       "    </tr>\n",
       "    <tr>\n",
       "      <th>6</th>\n",
       "      <td>KB7</td>\n",
       "      <td>18</td>\n",
       "      <td>Male</td>\n",
       "      <td>11/22/16</td>\n",
       "      <td>12/6/16</td>\n",
       "      <td>Concept</td>\n",
       "      <td>1</td>\n",
       "      <td>1</td>\n",
       "      <td>1</td>\n",
       "      <td>1</td>\n",
       "      <td>1.0</td>\n",
       "      <td>0.60</td>\n",
       "      <td>0.733</td>\n",
       "      <td>NK</td>\n",
       "      <td>0.767</td>\n",
       "      <td>MS</td>\n",
       "      <td>0.7500</td>\n",
       "      <td>NaN</td>\n",
       "      <td>NaN</td>\n",
       "      <td>NaN</td>\n",
       "      <td>NaN</td>\n",
       "      <td>NaN</td>\n",
       "      <td>NaN</td>\n",
       "      <td>NaN</td>\n",
       "      <td>NaN</td>\n",
       "      <td>NaN</td>\n",
       "      <td>NaN</td>\n",
       "      <td>0.38</td>\n",
       "      <td>MS</td>\n",
       "      <td>0.36</td>\n",
       "      <td>CB</td>\n",
       "      <td>0.37</td>\n",
       "      <td>0</td>\n",
       "      <td>0</td>\n",
       "      <td>1</td>\n",
       "    </tr>\n",
       "    <tr>\n",
       "      <th>7</th>\n",
       "      <td>KB8</td>\n",
       "      <td>20</td>\n",
       "      <td>Male</td>\n",
       "      <td>11/22/16</td>\n",
       "      <td>11/29/16</td>\n",
       "      <td>Concept</td>\n",
       "      <td>1</td>\n",
       "      <td>1</td>\n",
       "      <td>1</td>\n",
       "      <td>1</td>\n",
       "      <td>1.0</td>\n",
       "      <td>0.50</td>\n",
       "      <td>0.350</td>\n",
       "      <td>NK</td>\n",
       "      <td>0.333</td>\n",
       "      <td>MS</td>\n",
       "      <td>0.3415</td>\n",
       "      <td>NaN</td>\n",
       "      <td>NaN</td>\n",
       "      <td>NaN</td>\n",
       "      <td>NaN</td>\n",
       "      <td>NaN</td>\n",
       "      <td>NaN</td>\n",
       "      <td>NaN</td>\n",
       "      <td>NaN</td>\n",
       "      <td>NaN</td>\n",
       "      <td>NaN</td>\n",
       "      <td>0.44</td>\n",
       "      <td>NK</td>\n",
       "      <td>0.46</td>\n",
       "      <td>MS</td>\n",
       "      <td>0.45</td>\n",
       "      <td>0</td>\n",
       "      <td>0</td>\n",
       "      <td>1</td>\n",
       "    </tr>\n",
       "    <tr>\n",
       "      <th>8</th>\n",
       "      <td>KB9</td>\n",
       "      <td>20</td>\n",
       "      <td>Male</td>\n",
       "      <td>11/22/16</td>\n",
       "      <td>11/28/16</td>\n",
       "      <td>Concept</td>\n",
       "      <td>1</td>\n",
       "      <td>1</td>\n",
       "      <td>1</td>\n",
       "      <td>1</td>\n",
       "      <td>0.0</td>\n",
       "      <td>0.60</td>\n",
       "      <td>0.650</td>\n",
       "      <td>NK</td>\n",
       "      <td>0.650</td>\n",
       "      <td>MS</td>\n",
       "      <td>0.6500</td>\n",
       "      <td>NaN</td>\n",
       "      <td>NaN</td>\n",
       "      <td>NaN</td>\n",
       "      <td>NaN</td>\n",
       "      <td>NaN</td>\n",
       "      <td>NaN</td>\n",
       "      <td>NaN</td>\n",
       "      <td>NaN</td>\n",
       "      <td>NaN</td>\n",
       "      <td>NaN</td>\n",
       "      <td>0.64</td>\n",
       "      <td>MS</td>\n",
       "      <td>0.58</td>\n",
       "      <td>NK</td>\n",
       "      <td>0.61</td>\n",
       "      <td>0</td>\n",
       "      <td>0</td>\n",
       "      <td>1</td>\n",
       "    </tr>\n",
       "    <tr>\n",
       "      <th>9</th>\n",
       "      <td>KB10</td>\n",
       "      <td>20</td>\n",
       "      <td>Female</td>\n",
       "      <td>11/29/16</td>\n",
       "      <td>12/6/16</td>\n",
       "      <td>Concept</td>\n",
       "      <td>1</td>\n",
       "      <td>1</td>\n",
       "      <td>1</td>\n",
       "      <td>1</td>\n",
       "      <td>1.0</td>\n",
       "      <td>0.90</td>\n",
       "      <td>0.817</td>\n",
       "      <td>NK</td>\n",
       "      <td>0.783</td>\n",
       "      <td>MS</td>\n",
       "      <td>0.8000</td>\n",
       "      <td>NaN</td>\n",
       "      <td>NaN</td>\n",
       "      <td>NaN</td>\n",
       "      <td>NaN</td>\n",
       "      <td>NaN</td>\n",
       "      <td>NaN</td>\n",
       "      <td>NaN</td>\n",
       "      <td>NaN</td>\n",
       "      <td>NaN</td>\n",
       "      <td>NaN</td>\n",
       "      <td>0.66</td>\n",
       "      <td>NK</td>\n",
       "      <td>0.70</td>\n",
       "      <td>MS</td>\n",
       "      <td>0.68</td>\n",
       "      <td>0</td>\n",
       "      <td>0</td>\n",
       "      <td>1</td>\n",
       "    </tr>\n",
       "  </tbody>\n",
       "</table>\n",
       "</div>"
      ],
      "text/plain": [
       "     ID  Age  Gender   Date.P1   Date.P2 Condition  IC.1  IC.2  Comp.1  \\\n",
       "0   KB1   18  Female  11/21/16  11/28/16   Concept     1     1       1   \n",
       "1   KB2   18    Male  11/21/16  11/28/16   Concept     1     1       1   \n",
       "2   KB3   18    Male  11/21/16  11/28/16   Concept     1     1       1   \n",
       "3   KB4   19  Female  11/21/16  11/28/16   Concept     1     1       1   \n",
       "4   KB5   19  Female  11/22/16  11/29/16   Concept     1     1       1   \n",
       "5   KB6   19    Male  11/22/16  11/29/16   Concept     1     1       1   \n",
       "6   KB7   18    Male  11/22/16   12/6/16   Concept     1     1       1   \n",
       "7   KB8   20    Male  11/22/16  11/29/16   Concept     1     1       1   \n",
       "8   KB9   20    Male  11/22/16  11/28/16   Concept     1     1       1   \n",
       "9  KB10   20  Female  11/29/16   12/6/16   Concept     1     1       1   \n",
       "\n",
       "   Comp.2  PR.1  PR.2  MCS.1 Scorer.1  MCS.2 Scorer.2  MCS.avg  R1CS.1  \\\n",
       "0       1   1.0  0.80  0.750       NK  0.670       TT   0.7100     NaN   \n",
       "1       1   0.0  0.70  0.400       NK  0.367       TT   0.3835     NaN   \n",
       "2       1   0.0  0.70  0.433       NK  0.550       MS   0.4915     NaN   \n",
       "3       1   0.0  0.70  0.317       NK  0.333       MS   0.3250     NaN   \n",
       "4       1   0.0  0.95  0.683       NK  0.717       MS   0.7000     NaN   \n",
       "5       1   1.0  0.60  0.817       NK  0.783       MS   0.8000     NaN   \n",
       "6       1   1.0  0.60  0.733       NK  0.767       MS   0.7500     NaN   \n",
       "7       1   1.0  0.50  0.350       NK  0.333       MS   0.3415     NaN   \n",
       "8       1   0.0  0.60  0.650       NK  0.650       MS   0.6500     NaN   \n",
       "9       1   1.0  0.90  0.817       NK  0.783       MS   0.8000     NaN   \n",
       "\n",
       "  Scorer.1.1  R1CS.2 Scorer.2.1  R1CS.avg  R2CS.1 Scorer.1.2  R2CS.2  \\\n",
       "0        NaN     NaN        NaN       NaN     NaN        NaN     NaN   \n",
       "1        NaN     NaN        NaN       NaN     NaN        NaN     NaN   \n",
       "2        NaN     NaN        NaN       NaN     NaN        NaN     NaN   \n",
       "3        NaN     NaN        NaN       NaN     NaN        NaN     NaN   \n",
       "4        NaN     NaN        NaN       NaN     NaN        NaN     NaN   \n",
       "5        NaN     NaN        NaN       NaN     NaN        NaN     NaN   \n",
       "6        NaN     NaN        NaN       NaN     NaN        NaN     NaN   \n",
       "7        NaN     NaN        NaN       NaN     NaN        NaN     NaN   \n",
       "8        NaN     NaN        NaN       NaN     NaN        NaN     NaN   \n",
       "9        NaN     NaN        NaN       NaN     NaN        NaN     NaN   \n",
       "\n",
       "  Scorer.2.2  R2CS.avg  TS.1 Scorer.1.3  TS.2 Scorer.2.3  TS.avg  Exc.1  \\\n",
       "0        NaN       NaN  0.36         NK  0.42         MS    0.39      0   \n",
       "1        NaN       NaN  0.48         MS  0.36         NK    0.42      0   \n",
       "2        NaN       NaN  0.08         NK  0.08         MS    0.08      0   \n",
       "3        NaN       NaN  0.44         MS  0.42         NK    0.43      0   \n",
       "4        NaN       NaN  0.26         NK  0.28         MS    0.27      0   \n",
       "5        NaN       NaN  0.40         NK  0.46         MS    0.43      0   \n",
       "6        NaN       NaN  0.38         MS  0.36         CB    0.37      0   \n",
       "7        NaN       NaN  0.44         NK  0.46         MS    0.45      0   \n",
       "8        NaN       NaN  0.64         MS  0.58         NK    0.61      0   \n",
       "9        NaN       NaN  0.66         NK  0.70         MS    0.68      0   \n",
       "\n",
       "   Exc.2  Collection  \n",
       "0      0           1  \n",
       "1      0           1  \n",
       "2      0           1  \n",
       "3      0           1  \n",
       "4      0           1  \n",
       "5      0           1  \n",
       "6      0           1  \n",
       "7      0           1  \n",
       "8      0           1  \n",
       "9      0           1  "
      ]
     },
     "execution_count": 1,
     "metadata": {},
     "output_type": "execute_result"
    }
   ],
   "source": [
    "# READ IN THE DATA SET HERE\n",
    "\n",
    "import pandas as pd\n",
    "import matplotlib.pyplot as plt\n",
    "from IPython.display import display\n",
    "import seaborn as sns\n",
    "import numpy as np\n",
    "import math\n",
    "\n",
    "pd.options.display.max_columns = 35\n",
    "\n",
    "df = pd.read_csv(\"data.csv\")\n",
    "\n",
    "df.head(10)"
   ]
  },
  {
   "cell_type": "markdown",
   "metadata": {
    "colab_type": "text",
    "id": "dK2K5TkivAlT"
   },
   "source": [
    "# Question 1\n",
    "\n",
    "Which group felt like they learned more: the subjects who made concept maps or the ones who practiced retrieval? (Or are they about the same?) Make an appropriate visualization and explain what you see.\n",
    "\n",
    "_Hint:_ Use the variable `PR.2`, which contains the participants' predictions of how well they would do on a test one week later. "
   ]
  },
  {
   "cell_type": "code",
   "execution_count": 2,
   "metadata": {
    "colab": {},
    "colab_type": "code",
    "id": "IMh2REXUvAlT"
   },
   "outputs": [
    {
     "data": {
      "image/png": "[encoded data removed]",
      "text/plain": [
       "<Figure size 432x288 with 1 Axes>"
      ]
     },
     "metadata": {
      "needs_background": "light"
     },
     "output_type": "display_data"
    },
    {
     "data": {
      "image/png": "[encoded data removed]",
      "text/plain": [
       "<Figure size 432x288 with 1 Axes>"
      ]
     },
     "metadata": {
      "needs_background": "light"
     },
     "output_type": "display_data"
    }
   ],
   "source": [
    "# YOUR CODE HERE\n",
    "\n",
    "# By mean\n",
    "df.groupby(\"Condition\")[\"PR.2\"].mean().plot(kind=\"bar\")\n",
    "plt.ylabel(\"Confidence\")\n",
    "plt.title(\"Mean Confidence\")\n",
    "plt.show()\n",
    "\n",
    "# By median\n",
    "df.groupby(\"Condition\")[\"PR.2\"].mean().plot(kind=\"bar\")\n",
    "plt.ylabel(\"Confidence\")\n",
    "plt.title(\"Median Confidence\")\n",
    "plt.show()"
   ]
  },
  {
   "cell_type": "markdown",
   "metadata": {
    "colab_type": "text",
    "id": "TvM6_uHxvAlX"
   },
   "source": [
    "**YOUR EXPLANATION HERE**\n",
    "\n",
    "- It looks like the subjects who made concept maps felt like they would perform better in the test on the upcoming week."
   ]
  },
  {
   "cell_type": "markdown",
   "metadata": {
    "colab_type": "text",
    "id": "U5hlEgvzvAlY"
   },
   "source": [
    "# Question 2\n",
    "\n",
    "Which group actually did better on the follow-up learning test one week later? Make an appropriate visualization and explain what you see.\n",
    "\n",
    "_Hint:_ Don't ask which variable you should use. That is for you to figure out. Read the codebook carefully (consulting the [original paper](http://science.sciencemag.org/content/331/6018/772), if necessary), make an informed decision, and explain your choice."
   ]
  },
  {
   "cell_type": "code",
   "execution_count": 3,
   "metadata": {
    "colab": {},
    "colab_type": "code",
    "id": "9m-bnR0zvAlY"
   },
   "outputs": [
    {
     "data": {
      "image/png": "[encoded data removed]",
      "text/plain": [
       "<Figure size 432x288 with 1 Axes>"
      ]
     },
     "metadata": {
      "needs_background": "light"
     },
     "output_type": "display_data"
    },
    {
     "data": {
      "image/png": "[encoded data removed]",
      "text/plain": [
       "<Figure size 432x288 with 1 Axes>"
      ]
     },
     "metadata": {
      "needs_background": "light"
     },
     "output_type": "display_data"
    },
    {
     "data": {
      "image/png": "[encoded data removed]",
      "text/plain": [
       "<Figure size 432x288 with 1 Axes>"
      ]
     },
     "metadata": {
      "needs_background": "light"
     },
     "output_type": "display_data"
    },
    {
     "data": {
      "image/png": "[encoded data removed]",
      "text/plain": [
       "<Figure size 432x288 with 1 Axes>"
      ]
     },
     "metadata": {
      "needs_background": "light"
     },
     "output_type": "display_data"
    }
   ],
   "source": [
    "# YOUR CODE HERE\n",
    "\n",
    "# By Mean\n",
    "df.groupby(\"Condition\")[\"TS.avg\"].mean().plot(kind=\"bar\")\n",
    "plt.ylabel(\"Confidence\")\n",
    "plt.title(\"Mean Confidence\")\n",
    "plt.show()\n",
    "\n",
    "# By Median\n",
    "df.groupby(\"Condition\")[\"TS.avg\"].mean().plot(kind=\"bar\")\n",
    "plt.ylabel(\"Confidence\")\n",
    "plt.title(\"Median Confidence\")\n",
    "plt.show()\n",
    "\n",
    "# Entire distribution of TS.avg - \"Concept\" group\n",
    "df.loc[df[\"Condition\"] == \"Concept\"][\"TS.avg\"].plot(kind=\"box\")\n",
    "plt.ylabel(\"Score\")\n",
    "plt.title(\"Box plot of 'Condition' group\")\n",
    "plt.show()\n",
    "\n",
    "# Entire distribution of TS.avg - \"Concept\" group\n",
    "df.loc[df[\"Condition\"] == \"Retrieval\"][\"TS.avg\"].plot(kind=\"box\")\n",
    "plt.ylabel(\"Score\")\n",
    "plt.title(\"Box plot of 'Retrieval' group\")\n",
    "plt.show()"
   ]
  },
  {
   "cell_type": "markdown",
   "metadata": {
    "colab_type": "text",
    "id": "BPPeUIC2vAlb"
   },
   "source": [
    "**YOUR EXPLANATION HERE**\n",
    "\n",
    "It looks like the group who retrieved the information as they were learning it performed better, since both mean and medians in the \"Retrieval\" group are higher than in the \"Concept\" group. Further, the Retrieval group shows a higher mean in the box splots."
   ]
  },
  {
   "cell_type": "markdown",
   "metadata": {
    "colab_type": "text",
    "id": "54XjgjwnvAlb"
   },
   "source": [
    "# Question 3\n",
    "\n",
    "How good were subjects at predicting how well they would do on the follow-up learning test? Calculate a measure of how well subjects predicted their performance and interpret the value in context. (Optionally, you may want to include a visualization as well.)"
   ]
  },
  {
   "cell_type": "code",
   "execution_count": 4,
   "metadata": {
    "colab": {},
    "colab_type": "code",
    "id": "71FljkvqvAlc"
   },
   "outputs": [
    {
     "data": {
      "image/png": "[encoded data removed]",
      "text/plain": [
       "<Figure size 432x288 with 1 Axes>"
      ]
     },
     "metadata": {
      "needs_background": "light"
     },
     "output_type": "display_data"
    },
    {
     "data": {
      "image/png": "[encoded data removed]",
      "text/plain": [
       "<Figure size 432x288 with 1 Axes>"
      ]
     },
     "metadata": {
      "needs_background": "light"
     },
     "output_type": "display_data"
    },
    {
     "name": "stdout",
     "output_type": "stream",
     "text": [
      "Analysis of Distribution of Differences\n",
      " Concept\n",
      "    - Max: 0.6799999999999999\n",
      "    - Min: 0.010000000000000009\n",
      "    - Range: 0.6699999999999999\n",
      " Retrieval\n",
      "    - Max: 0.43999999999999995\n",
      "    - Min: 0.020000000000000018\n",
      "    - Range: 0.42999999999999994\n",
      "\n",
      "Distributions:\n"
     ]
    },
    {
     "data": {
      "image/png": "[encoded data removed]",
      "text/plain": [
       "<Figure size 1080x720 with 1 Axes>"
      ]
     },
     "metadata": {
      "needs_background": "light"
     },
     "output_type": "display_data"
    }
   ],
   "source": [
    "# YOUR CODE HERE\n",
    "\n",
    "# Create measure of difference between PR.2 and TS.2\n",
    "df[\"TDIF\"] = (df[\"PR.2\"] - df[\"TS.avg\"]).abs()\n",
    "\n",
    "# By mean\n",
    "mean_diff = df.groupby(\"Condition\")[\"TDIF\"].mean()\n",
    "mean_diff.plot(kind=\"bar\")\n",
    "plt.title(\"Mean difference in predicted and actual score\")\n",
    "plt.ylabel(\"Score\")\n",
    "plt.show()\n",
    "\n",
    "# By median\n",
    "median_diff = df.groupby(\"Condition\")[\"TDIF\"].median()\n",
    "median_diff.plot(kind=\"bar\")\n",
    "plt.title(\"Median difference in predicted and actual score\")\n",
    "plt.ylabel(\"Score\")\n",
    "plt.show()\n",
    "\n",
    "print(\"Analysis of Distribution of Differences\")\n",
    "print(\" Concept\")\n",
    "print(f\"    - Max: {df.loc[df['Condition'] == 'Concept']['TDIF'].max()}\")\n",
    "print(f\"    - Min: {df.loc[df['Condition'] == 'Concept']['TDIF'].min()}\")\n",
    "print(f\"    - Range: {df.loc[df['Condition'] == 'Concept']['TDIF'].max() - df.loc[df['Condition'] == 'Concept']['TDIF'].min()}\")\n",
    "print(\" Retrieval\")\n",
    "print(f\"    - Max: {df.loc[df['Condition'] == 'Retrieval']['TDIF'].max()}\")\n",
    "print(f\"    - Min: {df.loc[df['Condition'] == 'Retrieval']['TDIF'].min()}\")\n",
    "print(f\"    - Range: {df.loc[df['Condition'] == 'Retrieval']['TDIF'].max() - df.loc[df['Condition'] == 'Concept']['TDIF'].min()}\")\n",
    "\n",
    "print(\"\\nDistributions:\")\n",
    "\n",
    "# Ranges used for visualization\n",
    "diff_ranges = np.arange(0, 0.7, 0.05)\n",
    "\n",
    "df[\"TDIF_BIN\"] = pd.cut(x=df[\"TDIF\"], bins=diff_ranges)\n",
    "\n",
    "concept_counts = df.loc[df[\"Condition\"] == \"Concept\"][\"TDIF_BIN\"].value_counts()\n",
    "retrieval_counts = df.loc[df[\"Condition\"] == \"Retrieval\"][\"TDIF_BIN\"].value_counts()\n",
    "\n",
    "diff_bins = concept_counts.index\n",
    "\n",
    "plt.figure(figsize=(15, 10))\n",
    "width = 0.90\n",
    "plt.bar(x=[i for i in range(0, len(diff_bins))], height=concept_counts, color=\"blue\", label=\"Concept\", alpha=1.0, width=width)\n",
    "\n",
    "plt.bar(x=[i for i in range(0, len(diff_bins))], height=retrieval_counts, color=\"red\", label=\"Retrieval\", alpha=0.5, width=0.43)\n",
    "plt.xlabel(\"Difference Bin\")\n",
    "plt.ylabel(\"Bin Count\")\n",
    "plt.title(\"Comparing Test Difference Bins Between 'Concept' and 'Retrieval' Subjects\")\n",
    "plt.xticks([i for i in range(0, len(diff_bins))], [str(i) for i in diff_bins], rotation=60)\n",
    "plt.legend()\n",
    "plt.show()"
   ]
  },
  {
   "cell_type": "markdown",
   "metadata": {
    "colab_type": "text",
    "id": "3EZ15Z6kvAle"
   },
   "source": [
    "**YOUR EXPLANATION HERE**\n",
    "\n",
    "- I chose to use the difference between the predicted score, and the actual score for each group to compare which group performed best at predicting their score. I compared both the mean and median of this new \"difference score.\" The results show that the 'Retrieval' group had a better performance in their score prediction. This is because the difference scores for the 'Concept' group seem to be much higher, indicating that they were worse at predicting their score.\n",
    "\n",
    "- Further, I display the distribution of differences and compare both of the groups. The red bars are the 'Retrieval' group, which we can see has a generally lower distribution, with every red bar being less than or equal that of the blue bars. The blue bars are generally higher, meaning that more values fell within the bins for blue."
   ]
  },
  {
   "cell_type": "markdown",
   "metadata": {
    "colab_type": "text",
    "id": "7iD39TKdvAlf"
   },
   "source": [
    "# Question 4\n",
    "\n",
    "This was a completely randomized experiment. This means that the condition that each subject was assigned to should be independent of their gender, age, and any other subject characteristics. Does that seem to be true in this case? Calculate a summary measure and/or make a visualization, and explain what you see."
   ]
  },
  {
   "cell_type": "code",
   "execution_count": 5,
   "metadata": {
    "colab": {},
    "colab_type": "code",
    "id": "nlw6JXpTvAlf"
   },
   "outputs": [
    {
     "name": "stdout",
     "output_type": "stream",
     "text": [
      "Counts:\n",
      "    - Males: 22\n",
      "    - Females: 21\n",
      "    - Total: 43\n",
      "\n",
      "Contingency Table:\n"
     ]
    },
    {
     "data": {
      "text/html": [
       "<div>\n",
       "<style scoped>\n",
       "    .dataframe tbody tr th:only-of-type {\n",
       "        vertical-align: middle;\n",
       "    }\n",
       "\n",
       "    .dataframe tbody tr th {\n",
       "        vertical-align: top;\n",
       "    }\n",
       "\n",
       "    .dataframe thead th {\n",
       "        text-align: right;\n",
       "    }\n",
       "</style>\n",
       "<table border=\"1\" class=\"dataframe\">\n",
       "  <thead>\n",
       "    <tr style=\"text-align: right;\">\n",
       "      <th>Gender</th>\n",
       "      <th>Female</th>\n",
       "      <th>Male</th>\n",
       "      <th>All</th>\n",
       "    </tr>\n",
       "    <tr>\n",
       "      <th>Condition</th>\n",
       "      <th></th>\n",
       "      <th></th>\n",
       "      <th></th>\n",
       "    </tr>\n",
       "  </thead>\n",
       "  <tbody>\n",
       "    <tr>\n",
       "      <th>Concept</th>\n",
       "      <td>9</td>\n",
       "      <td>17</td>\n",
       "      <td>26</td>\n",
       "    </tr>\n",
       "    <tr>\n",
       "      <th>Retrieval</th>\n",
       "      <td>12</td>\n",
       "      <td>5</td>\n",
       "      <td>17</td>\n",
       "    </tr>\n",
       "    <tr>\n",
       "      <th>All</th>\n",
       "      <td>21</td>\n",
       "      <td>22</td>\n",
       "      <td>43</td>\n",
       "    </tr>\n",
       "  </tbody>\n",
       "</table>\n",
       "</div>"
      ],
      "text/plain": [
       "Gender     Female  Male  All\n",
       "Condition                   \n",
       "Concept         9    17   26\n",
       "Retrieval      12     5   17\n",
       "All            21    22   43"
      ]
     },
     "metadata": {},
     "output_type": "display_data"
    },
    {
     "name": "stdout",
     "output_type": "stream",
     "text": [
      "Joint Distribution Table:\n"
     ]
    },
    {
     "data": {
      "text/html": [
       "<div>\n",
       "<style scoped>\n",
       "    .dataframe tbody tr th:only-of-type {\n",
       "        vertical-align: middle;\n",
       "    }\n",
       "\n",
       "    .dataframe tbody tr th {\n",
       "        vertical-align: top;\n",
       "    }\n",
       "\n",
       "    .dataframe thead th {\n",
       "        text-align: right;\n",
       "    }\n",
       "</style>\n",
       "<table border=\"1\" class=\"dataframe\">\n",
       "  <thead>\n",
       "    <tr style=\"text-align: right;\">\n",
       "      <th>Gender</th>\n",
       "      <th>Female</th>\n",
       "      <th>Male</th>\n",
       "      <th>All</th>\n",
       "    </tr>\n",
       "    <tr>\n",
       "      <th>Condition</th>\n",
       "      <th></th>\n",
       "      <th></th>\n",
       "      <th></th>\n",
       "    </tr>\n",
       "  </thead>\n",
       "  <tbody>\n",
       "    <tr>\n",
       "      <th>Concept</th>\n",
       "      <td>0.209302</td>\n",
       "      <td>0.395349</td>\n",
       "      <td>0.604651</td>\n",
       "    </tr>\n",
       "    <tr>\n",
       "      <th>Retrieval</th>\n",
       "      <td>0.279070</td>\n",
       "      <td>0.116279</td>\n",
       "      <td>0.395349</td>\n",
       "    </tr>\n",
       "    <tr>\n",
       "      <th>All</th>\n",
       "      <td>0.488372</td>\n",
       "      <td>0.511628</td>\n",
       "      <td>1.000000</td>\n",
       "    </tr>\n",
       "  </tbody>\n",
       "</table>\n",
       "</div>"
      ],
      "text/plain": [
       "Gender       Female      Male       All\n",
       "Condition                              \n",
       "Concept    0.209302  0.395349  0.604651\n",
       "Retrieval  0.279070  0.116279  0.395349\n",
       "All        0.488372  0.511628  1.000000"
      ]
     },
     "metadata": {},
     "output_type": "display_data"
    },
    {
     "data": {
      "image/png": "[encoded data removed]",
      "text/plain": [
       "<Figure size 432x288 with 1 Axes>"
      ]
     },
     "metadata": {
      "needs_background": "light"
     },
     "output_type": "display_data"
    },
    {
     "data": {
      "image/png": "[encoded data removed]",
      "text/plain": [
       "<Figure size 432x288 with 1 Axes>"
      ]
     },
     "metadata": {
      "needs_background": "light"
     },
     "output_type": "display_data"
    },
    {
     "data": {
      "image/png": "[encoded data removed]",
      "text/plain": [
       "<Figure size 432x288 with 2 Axes>"
      ]
     },
     "metadata": {
      "needs_background": "light"
     },
     "output_type": "display_data"
    },
    {
     "data": {
      "text/plain": [
       "<AxesSubplot:xlabel='Condition'>"
      ]
     },
     "execution_count": 5,
     "metadata": {},
     "output_type": "execute_result"
    },
    {
     "data": {
      "image/png": "[encoded data removed]",
      "text/plain": [
       "<Figure size 432x288 with 1 Axes>"
      ]
     },
     "metadata": {
      "needs_background": "light"
     },
     "output_type": "display_data"
    }
   ],
   "source": [
    "# YOUR CODE HERE\n",
    "\n",
    "# Print the counts\n",
    "print(\"Counts:\")\n",
    "print(f\"    - Males: {df['Gender'].value_counts()['Male']}\")\n",
    "print(f\"    - Females: {df['Gender'].value_counts()['Female']}\")\n",
    "print(f\"    - Total: {df['Gender'].count()}\\n\")\n",
    "\n",
    "# Contingency Table\n",
    "print(\"Contingency Table:\")\n",
    "cont_tab = pd.crosstab(df[\"Condition\"], df[\"Gender\"], margins=True)\n",
    "display(cont_tab)\n",
    "\n",
    "# Joint Distribution Table\n",
    "print(\"Joint Distribution Table:\")\n",
    "joint_tab = pd.crosstab(df[\"Condition\"], df[\"Gender\"], normalize=True)\n",
    "display(pd.crosstab(df[\"Condition\"], df[\"Gender\"], normalize=True, margins=True))\n",
    "\n",
    "# Concept/Retrieval given Gender\n",
    "gender = joint_tab.sum(axis=0)\n",
    "condition_given_gender = joint_tab.divide(gender, axis=1)\n",
    "condition_given_gender.T.plot.bar(stacked=True)\n",
    "plt.title(\"Condition Given Gender\")\n",
    "plt.legend(loc=\"best\")\n",
    "plt.show()\n",
    "\n",
    "# Gender given Concept/Retrieval\n",
    "condition = joint_tab.sum(axis=1)\n",
    "gender_given_condition = joint_tab.divide(condition, axis=0)\n",
    "gender_given_condition.plot.bar(stacked=True)\n",
    "plt.title(\"Gender Given Condition\")\n",
    "plt.legend(loc=\"best\")\n",
    "plt.show()\n",
    "\n",
    "# Generate heatmap\n",
    "sns.heatmap(joint_tab)\n",
    "plt.show()\n",
    "\n",
    "# Plot age distributions between Concept and Retrieval subjects\n",
    "pd.crosstab(df[\"Condition\"], df[\"Age\"]).plot(kind=\"bar\")"
   ]
  },
  {
   "cell_type": "markdown",
   "metadata": {
    "colab_type": "text",
    "id": "NVxo0YzpvAlm"
   },
   "source": [
    "**YOUR EXPLANATION HERE**\n",
    "\n",
    "- It seems like the distribution of the categories are not quite equal for males and females. Observing the number of males and females, they are approximately equal. Thus, discrepancy between the sample sizes of males and females is not an issue.\n",
    "\n",
    "- In the first bar graph, we can observe that the 'Concept' group given Male subjects is much larger than the 'Concept' group given Female subjects. Further, both the heat map and second bar graph seem to indicate that out of the 'Concept' group, more subjects are male than female.\n",
    "  \n",
    "- Therefore, it is not true that we observe similar distributions of 'Concept' and 'Retrieval' methods for both males and females. This may be because certain types of methods are preferred by a gender more than the other methods. For example, males may prefer the 'Concept' map method, rather than the 'Retrieval' method. Thus, males will dominate in that category when it comes to representation."
   ]
  },
  {
   "cell_type": "markdown",
   "metadata": {
    "colab_type": "text",
    "id": "eJ67dulfvAlm"
   },
   "source": [
    "# Submission Instructions\n",
    "\n",
    "Once you are finished, follow these steps:\n",
    "\n",
    "1. Restart the kernel and re-run this notebook from beginning to end by going to `Kernel > Restart Kernel and Run All Cells`.\n",
    "2. If this process stops halfway through, that means there was an error. Correct the error and repeat Step 1 until the notebook runs from beginning to end.\n",
    "3. Double check that there is a number next to each code cell and that these numbers are in order.\n",
    "\n",
    "Then, submit your lab as follows:\n",
    "\n",
    "1. Go to `File > Export Notebook As > PDF`.\n",
    "2. Double check that the entire notebook, from beginning to end, is in this PDF file. (If the notebook is cut off, try first exporting the notebook to HTML and printing to PDF.)\n",
    "3. Upload the PDF to Gradescope and Notebook (ipynb) to iLearn."
   ]
  }
 ],
 "metadata": {
  "colab": {
   "name": "3C. Retrieval Practice and Learning.ipynb",
   "provenance": []
  },
  "kernelspec": {
   "display_name": "Python 3",
   "language": "python",
   "name": "python3"
  },
  "language_info": {
   "codemirror_mode": {
    "name": "ipython",
    "version": 3
   },
   "file_extension": ".py",
   "mimetype": "text/x-python",
   "name": "python",
   "nbconvert_exporter": "python",
   "pygments_lexer": "ipython3",
   "version": "3.7.7"
  }
 },
 "nbformat": 4,
 "nbformat_minor": 1
}

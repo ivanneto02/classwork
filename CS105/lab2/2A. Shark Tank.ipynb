{
 "cells": [
  {
   "cell_type": "markdown",
   "metadata": {
    "colab_type": "text",
    "id": "pB6X4Cs0ovvn"
   },
   "source": [
    "# Shark Tank\n",
    "\n",
    "_Shark Tank_ is a reality TV show. Contestants present their idea for a company to a panel of investors (a.k.a. \"sharks\"), who then decide whether or not to invest in that company.  The investors give a certain amount of money in exchange for a percentage stake in the company (\"equity\"). If you are not familiar with the show, you may want to watch part of an episode [here](https://www.youtube.com/watch?v=3VBmLGUDxWA) to get a sense of how it works.  You can also search for a clip on YouTube. \n",
    "\n",
    "The data that you will examine in this lab contains data about all contestants from the first 6 seasons of the show, including:\n",
    "- the name and industry of the proposed company\n",
    "- whether or not it was funded (i.e., the \"Deal\" column)\n",
    "- which sharks chose to invest in the venture (N.B. There are 7 regular sharks, not including \"Guest\". Each shark has a column in the data set, labeled by their last name.)\n",
    "- if funded, the amount of money the sharks put in and the percentage equity they got in return\n",
    "\n",
    "To earn full credit on this lab, you should:\n",
    "- use built-in `pandas` methods (like `.sum()` and `.max()`) instead of writing a for loop over a `DataFrame` or `Series`\n",
    "- use the split-apply-combine pattern wherever possible\n",
    "\n",
    "Of course, if you can't think of a vectorized solution, a `for` loop is still better than no solution at all!"
   ]
  },
  {
   "cell_type": "code",
   "execution_count": 1,
   "metadata": {
    "colab": {},
    "colab_type": "code",
    "id": "Us6oobKlovvp"
   },
   "outputs": [],
   "source": [
    "import pandas as pd\n",
    "\n",
    "import matplotlib.pyplot as plt\n",
    "import matplotlib as mpl\n",
    "import seaborn as sns\n",
    "from IPython.display import display\n",
    "\n",
    "import math"
   ]
  },
  {
   "cell_type": "markdown",
   "metadata": {
    "colab_type": "text",
    "id": "ngi3x0nmovvw"
   },
   "source": [
    "## Question 0. Getting and Cleaning the Data"
   ]
  },
  {
   "cell_type": "markdown",
   "metadata": {
    "colab_type": "text",
    "id": "qg5b6rHFovvw"
   },
   "source": [
    "The data is stored in the CSV file `sharktank.csv`. Read in the data into a Pandas `DataFrame`."
   ]
  },
  {
   "cell_type": "code",
   "execution_count": 2,
   "metadata": {
    "colab": {},
    "colab_type": "code",
    "id": "arHQniiLovvy"
   },
   "outputs": [
    {
     "data": {
      "text/html": [
       "<div>\n",
       "<style scoped>\n",
       "    .dataframe tbody tr th:only-of-type {\n",
       "        vertical-align: middle;\n",
       "    }\n",
       "\n",
       "    .dataframe tbody tr th {\n",
       "        vertical-align: top;\n",
       "    }\n",
       "\n",
       "    .dataframe thead th {\n",
       "        text-align: right;\n",
       "    }\n",
       "</style>\n",
       "<table border=\"1\" class=\"dataframe\">\n",
       "  <thead>\n",
       "    <tr style=\"text-align: right;\">\n",
       "      <th></th>\n",
       "      <th>Season</th>\n",
       "      <th>No. in series</th>\n",
       "      <th>Company</th>\n",
       "      <th>Deal</th>\n",
       "      <th>Industry</th>\n",
       "      <th>Entrepreneur Gender</th>\n",
       "      <th>Amount</th>\n",
       "      <th>Equity</th>\n",
       "      <th>Corcoran</th>\n",
       "      <th>Cuban</th>\n",
       "      <th>Greiner</th>\n",
       "      <th>Herjavec</th>\n",
       "      <th>John</th>\n",
       "      <th>O'Leary</th>\n",
       "      <th>Harrington</th>\n",
       "      <th>Guest</th>\n",
       "      <th>Details / Notes</th>\n",
       "    </tr>\n",
       "  </thead>\n",
       "  <tbody>\n",
       "    <tr>\n",
       "      <th>0</th>\n",
       "      <td>1.0</td>\n",
       "      <td>1.0</td>\n",
       "      <td>Ava the Elephant</td>\n",
       "      <td>Yes</td>\n",
       "      <td>Healthcare</td>\n",
       "      <td>Female</td>\n",
       "      <td>$50,000</td>\n",
       "      <td>55%</td>\n",
       "      <td>1.0</td>\n",
       "      <td>NaN</td>\n",
       "      <td>NaN</td>\n",
       "      <td>NaN</td>\n",
       "      <td>NaN</td>\n",
       "      <td>NaN</td>\n",
       "      <td>NaN</td>\n",
       "      <td>NaN</td>\n",
       "      <td>NaN</td>\n",
       "    </tr>\n",
       "    <tr>\n",
       "      <th>1</th>\n",
       "      <td>1.0</td>\n",
       "      <td>1.0</td>\n",
       "      <td>Mr. Tod's Pie Factory</td>\n",
       "      <td>Yes</td>\n",
       "      <td>Food and Beverage</td>\n",
       "      <td>Male</td>\n",
       "      <td>$460,000</td>\n",
       "      <td>50%</td>\n",
       "      <td>1.0</td>\n",
       "      <td>NaN</td>\n",
       "      <td>NaN</td>\n",
       "      <td>NaN</td>\n",
       "      <td>1.0</td>\n",
       "      <td>NaN</td>\n",
       "      <td>NaN</td>\n",
       "      <td>NaN</td>\n",
       "      <td>NaN</td>\n",
       "    </tr>\n",
       "    <tr>\n",
       "      <th>2</th>\n",
       "      <td>1.0</td>\n",
       "      <td>1.0</td>\n",
       "      <td>Wispots</td>\n",
       "      <td>No</td>\n",
       "      <td>Business Services</td>\n",
       "      <td>Male</td>\n",
       "      <td>NaN</td>\n",
       "      <td>NaN</td>\n",
       "      <td>NaN</td>\n",
       "      <td>NaN</td>\n",
       "      <td>NaN</td>\n",
       "      <td>NaN</td>\n",
       "      <td>NaN</td>\n",
       "      <td>NaN</td>\n",
       "      <td>NaN</td>\n",
       "      <td>NaN</td>\n",
       "      <td>NaN</td>\n",
       "    </tr>\n",
       "    <tr>\n",
       "      <th>3</th>\n",
       "      <td>1.0</td>\n",
       "      <td>1.0</td>\n",
       "      <td>College Foxes Packing Boxes</td>\n",
       "      <td>No</td>\n",
       "      <td>Lifestyle / Home</td>\n",
       "      <td>Male</td>\n",
       "      <td>NaN</td>\n",
       "      <td>NaN</td>\n",
       "      <td>NaN</td>\n",
       "      <td>NaN</td>\n",
       "      <td>NaN</td>\n",
       "      <td>NaN</td>\n",
       "      <td>NaN</td>\n",
       "      <td>NaN</td>\n",
       "      <td>NaN</td>\n",
       "      <td>NaN</td>\n",
       "      <td>NaN</td>\n",
       "    </tr>\n",
       "    <tr>\n",
       "      <th>4</th>\n",
       "      <td>1.0</td>\n",
       "      <td>1.0</td>\n",
       "      <td>Ionic Ear</td>\n",
       "      <td>No</td>\n",
       "      <td>Uncertain / Other</td>\n",
       "      <td>Male</td>\n",
       "      <td>NaN</td>\n",
       "      <td>NaN</td>\n",
       "      <td>NaN</td>\n",
       "      <td>NaN</td>\n",
       "      <td>NaN</td>\n",
       "      <td>NaN</td>\n",
       "      <td>NaN</td>\n",
       "      <td>NaN</td>\n",
       "      <td>NaN</td>\n",
       "      <td>NaN</td>\n",
       "      <td>NaN</td>\n",
       "    </tr>\n",
       "  </tbody>\n",
       "</table>\n",
       "</div>"
      ],
      "text/plain": [
       "   Season  No. in series                      Company Deal           Industry  \\\n",
       "0     1.0            1.0             Ava the Elephant  Yes         Healthcare   \n",
       "1     1.0            1.0        Mr. Tod's Pie Factory  Yes  Food and Beverage   \n",
       "2     1.0            1.0                      Wispots   No  Business Services   \n",
       "3     1.0            1.0  College Foxes Packing Boxes   No   Lifestyle / Home   \n",
       "4     1.0            1.0                    Ionic Ear   No  Uncertain / Other   \n",
       "\n",
       "  Entrepreneur Gender    Amount Equity  Corcoran  Cuban  Greiner  Herjavec  \\\n",
       "0              Female   $50,000    55%       1.0    NaN      NaN       NaN   \n",
       "1                Male  $460,000    50%       1.0    NaN      NaN       NaN   \n",
       "2                Male       NaN    NaN       NaN    NaN      NaN       NaN   \n",
       "3                Male       NaN    NaN       NaN    NaN      NaN       NaN   \n",
       "4                Male       NaN    NaN       NaN    NaN      NaN       NaN   \n",
       "\n",
       "   John  O'Leary  Harrington  Guest Details / Notes  \n",
       "0   NaN      NaN         NaN    NaN             NaN  \n",
       "1   1.0      NaN         NaN    NaN             NaN  \n",
       "2   NaN      NaN         NaN    NaN             NaN  \n",
       "3   NaN      NaN         NaN    NaN             NaN  \n",
       "4   NaN      NaN         NaN    NaN             NaN  "
      ]
     },
     "execution_count": 2,
     "metadata": {},
     "output_type": "execute_result"
    }
   ],
   "source": [
    "# YOUR CODE HERE\n",
    "df_stank = pd.read_csv(\"sharktank.csv\")\n",
    "df_stank.head()"
   ]
  },
  {
   "cell_type": "markdown",
   "metadata": {
    "colab_type": "text",
    "id": "Ie2pafAbovv3"
   },
   "source": [
    "There is one column for each of the sharks. A 1 indicates that they chose to invest in that company, while a missing value indicates that they did not choose to invest in that company. Notice that these missing values show up as NaNs when we read in the data. Fill in these missing values with zeros. Other columns may also contain NaNs; be careful not to fill those columns with zeros, or you may end up with strange results down the line."
   ]
  },
  {
   "cell_type": "code",
   "execution_count": 3,
   "metadata": {
    "colab": {},
    "colab_type": "code",
    "id": "w6KKp8u1ovv7"
   },
   "outputs": [
    {
     "data": {
      "text/html": [
       "<div>\n",
       "<style scoped>\n",
       "    .dataframe tbody tr th:only-of-type {\n",
       "        vertical-align: middle;\n",
       "    }\n",
       "\n",
       "    .dataframe tbody tr th {\n",
       "        vertical-align: top;\n",
       "    }\n",
       "\n",
       "    .dataframe thead th {\n",
       "        text-align: right;\n",
       "    }\n",
       "</style>\n",
       "<table border=\"1\" class=\"dataframe\">\n",
       "  <thead>\n",
       "    <tr style=\"text-align: right;\">\n",
       "      <th></th>\n",
       "      <th>Season</th>\n",
       "      <th>No. in series</th>\n",
       "      <th>Company</th>\n",
       "      <th>Deal</th>\n",
       "      <th>Industry</th>\n",
       "      <th>Entrepreneur Gender</th>\n",
       "      <th>Amount</th>\n",
       "      <th>Equity</th>\n",
       "      <th>Corcoran</th>\n",
       "      <th>Cuban</th>\n",
       "      <th>Greiner</th>\n",
       "      <th>Herjavec</th>\n",
       "      <th>John</th>\n",
       "      <th>O'Leary</th>\n",
       "      <th>Harrington</th>\n",
       "      <th>Guest</th>\n",
       "      <th>Details / Notes</th>\n",
       "    </tr>\n",
       "  </thead>\n",
       "  <tbody>\n",
       "    <tr>\n",
       "      <th>0</th>\n",
       "      <td>1.0</td>\n",
       "      <td>1.0</td>\n",
       "      <td>Ava the Elephant</td>\n",
       "      <td>Yes</td>\n",
       "      <td>Healthcare</td>\n",
       "      <td>Female</td>\n",
       "      <td>$50,000</td>\n",
       "      <td>55%</td>\n",
       "      <td>1.0</td>\n",
       "      <td>0.0</td>\n",
       "      <td>0.0</td>\n",
       "      <td>0.0</td>\n",
       "      <td>0.0</td>\n",
       "      <td>0.0</td>\n",
       "      <td>0.0</td>\n",
       "      <td>0.0</td>\n",
       "      <td>0</td>\n",
       "    </tr>\n",
       "    <tr>\n",
       "      <th>1</th>\n",
       "      <td>1.0</td>\n",
       "      <td>1.0</td>\n",
       "      <td>Mr. Tod's Pie Factory</td>\n",
       "      <td>Yes</td>\n",
       "      <td>Food and Beverage</td>\n",
       "      <td>Male</td>\n",
       "      <td>$460,000</td>\n",
       "      <td>50%</td>\n",
       "      <td>1.0</td>\n",
       "      <td>0.0</td>\n",
       "      <td>0.0</td>\n",
       "      <td>0.0</td>\n",
       "      <td>1.0</td>\n",
       "      <td>0.0</td>\n",
       "      <td>0.0</td>\n",
       "      <td>0.0</td>\n",
       "      <td>0</td>\n",
       "    </tr>\n",
       "    <tr>\n",
       "      <th>2</th>\n",
       "      <td>1.0</td>\n",
       "      <td>1.0</td>\n",
       "      <td>Wispots</td>\n",
       "      <td>No</td>\n",
       "      <td>Business Services</td>\n",
       "      <td>Male</td>\n",
       "      <td>0</td>\n",
       "      <td>0</td>\n",
       "      <td>0.0</td>\n",
       "      <td>0.0</td>\n",
       "      <td>0.0</td>\n",
       "      <td>0.0</td>\n",
       "      <td>0.0</td>\n",
       "      <td>0.0</td>\n",
       "      <td>0.0</td>\n",
       "      <td>0.0</td>\n",
       "      <td>0</td>\n",
       "    </tr>\n",
       "    <tr>\n",
       "      <th>3</th>\n",
       "      <td>1.0</td>\n",
       "      <td>1.0</td>\n",
       "      <td>College Foxes Packing Boxes</td>\n",
       "      <td>No</td>\n",
       "      <td>Lifestyle / Home</td>\n",
       "      <td>Male</td>\n",
       "      <td>0</td>\n",
       "      <td>0</td>\n",
       "      <td>0.0</td>\n",
       "      <td>0.0</td>\n",
       "      <td>0.0</td>\n",
       "      <td>0.0</td>\n",
       "      <td>0.0</td>\n",
       "      <td>0.0</td>\n",
       "      <td>0.0</td>\n",
       "      <td>0.0</td>\n",
       "      <td>0</td>\n",
       "    </tr>\n",
       "    <tr>\n",
       "      <th>4</th>\n",
       "      <td>1.0</td>\n",
       "      <td>1.0</td>\n",
       "      <td>Ionic Ear</td>\n",
       "      <td>No</td>\n",
       "      <td>Uncertain / Other</td>\n",
       "      <td>Male</td>\n",
       "      <td>0</td>\n",
       "      <td>0</td>\n",
       "      <td>0.0</td>\n",
       "      <td>0.0</td>\n",
       "      <td>0.0</td>\n",
       "      <td>0.0</td>\n",
       "      <td>0.0</td>\n",
       "      <td>0.0</td>\n",
       "      <td>0.0</td>\n",
       "      <td>0.0</td>\n",
       "      <td>0</td>\n",
       "    </tr>\n",
       "  </tbody>\n",
       "</table>\n",
       "</div>"
      ],
      "text/plain": [
       "   Season  No. in series                      Company Deal           Industry  \\\n",
       "0     1.0            1.0             Ava the Elephant  Yes         Healthcare   \n",
       "1     1.0            1.0        Mr. Tod's Pie Factory  Yes  Food and Beverage   \n",
       "2     1.0            1.0                      Wispots   No  Business Services   \n",
       "3     1.0            1.0  College Foxes Packing Boxes   No   Lifestyle / Home   \n",
       "4     1.0            1.0                    Ionic Ear   No  Uncertain / Other   \n",
       "\n",
       "  Entrepreneur Gender    Amount Equity  Corcoran  Cuban  Greiner  Herjavec  \\\n",
       "0              Female   $50,000    55%       1.0    0.0      0.0       0.0   \n",
       "1                Male  $460,000    50%       1.0    0.0      0.0       0.0   \n",
       "2                Male         0      0       0.0    0.0      0.0       0.0   \n",
       "3                Male         0      0       0.0    0.0      0.0       0.0   \n",
       "4                Male         0      0       0.0    0.0      0.0       0.0   \n",
       "\n",
       "   John  O'Leary  Harrington  Guest Details / Notes  \n",
       "0   0.0      0.0         0.0    0.0               0  \n",
       "1   1.0      0.0         0.0    0.0               0  \n",
       "2   0.0      0.0         0.0    0.0               0  \n",
       "3   0.0      0.0         0.0    0.0               0  \n",
       "4   0.0      0.0         0.0    0.0               0  "
      ]
     },
     "execution_count": 3,
     "metadata": {},
     "output_type": "execute_result"
    }
   ],
   "source": [
    "# YOUR CODE HERE\n",
    "df_stank.fillna(value=0, inplace=True)\n",
    "df_stank.head()"
   ]
  },
  {
   "cell_type": "markdown",
   "metadata": {
    "colab_type": "text",
    "id": "jzFqjoaYovv_"
   },
   "source": [
    "Notice that Amount and Equity are currently being treated as categorical variables (`dtype: object`). Can you figure out why this is? Clean up these columns and cast them to numeric types (i.e., a `dtype` of `int` or `float`) because we'll need to perform mathematical operations on these columns."
   ]
  },
  {
   "cell_type": "code",
   "execution_count": 4,
   "metadata": {
    "colab": {},
    "colab_type": "code",
    "id": "HQjnkHrZovwA"
   },
   "outputs": [
    {
     "data": {
      "text/html": [
       "<div>\n",
       "<style scoped>\n",
       "    .dataframe tbody tr th:only-of-type {\n",
       "        vertical-align: middle;\n",
       "    }\n",
       "\n",
       "    .dataframe tbody tr th {\n",
       "        vertical-align: top;\n",
       "    }\n",
       "\n",
       "    .dataframe thead th {\n",
       "        text-align: right;\n",
       "    }\n",
       "</style>\n",
       "<table border=\"1\" class=\"dataframe\">\n",
       "  <thead>\n",
       "    <tr style=\"text-align: right;\">\n",
       "      <th></th>\n",
       "      <th>Season</th>\n",
       "      <th>No. in series</th>\n",
       "      <th>Company</th>\n",
       "      <th>Deal</th>\n",
       "      <th>Industry</th>\n",
       "      <th>Entrepreneur Gender</th>\n",
       "      <th>Amount</th>\n",
       "      <th>Equity</th>\n",
       "      <th>Corcoran</th>\n",
       "      <th>Cuban</th>\n",
       "      <th>Greiner</th>\n",
       "      <th>Herjavec</th>\n",
       "      <th>John</th>\n",
       "      <th>O'Leary</th>\n",
       "      <th>Harrington</th>\n",
       "      <th>Guest</th>\n",
       "      <th>Details / Notes</th>\n",
       "    </tr>\n",
       "  </thead>\n",
       "  <tbody>\n",
       "    <tr>\n",
       "      <th>0</th>\n",
       "      <td>1.0</td>\n",
       "      <td>1.0</td>\n",
       "      <td>Ava the Elephant</td>\n",
       "      <td>Yes</td>\n",
       "      <td>Healthcare</td>\n",
       "      <td>Female</td>\n",
       "      <td>50000</td>\n",
       "      <td>55.0</td>\n",
       "      <td>1.0</td>\n",
       "      <td>0.0</td>\n",
       "      <td>0.0</td>\n",
       "      <td>0.0</td>\n",
       "      <td>0.0</td>\n",
       "      <td>0.0</td>\n",
       "      <td>0.0</td>\n",
       "      <td>0.0</td>\n",
       "      <td>0</td>\n",
       "    </tr>\n",
       "    <tr>\n",
       "      <th>1</th>\n",
       "      <td>1.0</td>\n",
       "      <td>1.0</td>\n",
       "      <td>Mr. Tod's Pie Factory</td>\n",
       "      <td>Yes</td>\n",
       "      <td>Food and Beverage</td>\n",
       "      <td>Male</td>\n",
       "      <td>460000</td>\n",
       "      <td>50.0</td>\n",
       "      <td>1.0</td>\n",
       "      <td>0.0</td>\n",
       "      <td>0.0</td>\n",
       "      <td>0.0</td>\n",
       "      <td>1.0</td>\n",
       "      <td>0.0</td>\n",
       "      <td>0.0</td>\n",
       "      <td>0.0</td>\n",
       "      <td>0</td>\n",
       "    </tr>\n",
       "    <tr>\n",
       "      <th>2</th>\n",
       "      <td>1.0</td>\n",
       "      <td>1.0</td>\n",
       "      <td>Wispots</td>\n",
       "      <td>No</td>\n",
       "      <td>Business Services</td>\n",
       "      <td>Male</td>\n",
       "      <td>0</td>\n",
       "      <td>0.0</td>\n",
       "      <td>0.0</td>\n",
       "      <td>0.0</td>\n",
       "      <td>0.0</td>\n",
       "      <td>0.0</td>\n",
       "      <td>0.0</td>\n",
       "      <td>0.0</td>\n",
       "      <td>0.0</td>\n",
       "      <td>0.0</td>\n",
       "      <td>0</td>\n",
       "    </tr>\n",
       "    <tr>\n",
       "      <th>3</th>\n",
       "      <td>1.0</td>\n",
       "      <td>1.0</td>\n",
       "      <td>College Foxes Packing Boxes</td>\n",
       "      <td>No</td>\n",
       "      <td>Lifestyle / Home</td>\n",
       "      <td>Male</td>\n",
       "      <td>0</td>\n",
       "      <td>0.0</td>\n",
       "      <td>0.0</td>\n",
       "      <td>0.0</td>\n",
       "      <td>0.0</td>\n",
       "      <td>0.0</td>\n",
       "      <td>0.0</td>\n",
       "      <td>0.0</td>\n",
       "      <td>0.0</td>\n",
       "      <td>0.0</td>\n",
       "      <td>0</td>\n",
       "    </tr>\n",
       "    <tr>\n",
       "      <th>4</th>\n",
       "      <td>1.0</td>\n",
       "      <td>1.0</td>\n",
       "      <td>Ionic Ear</td>\n",
       "      <td>No</td>\n",
       "      <td>Uncertain / Other</td>\n",
       "      <td>Male</td>\n",
       "      <td>0</td>\n",
       "      <td>0.0</td>\n",
       "      <td>0.0</td>\n",
       "      <td>0.0</td>\n",
       "      <td>0.0</td>\n",
       "      <td>0.0</td>\n",
       "      <td>0.0</td>\n",
       "      <td>0.0</td>\n",
       "      <td>0.0</td>\n",
       "      <td>0.0</td>\n",
       "      <td>0</td>\n",
       "    </tr>\n",
       "  </tbody>\n",
       "</table>\n",
       "</div>"
      ],
      "text/plain": [
       "   Season  No. in series                      Company Deal           Industry  \\\n",
       "0     1.0            1.0             Ava the Elephant  Yes         Healthcare   \n",
       "1     1.0            1.0        Mr. Tod's Pie Factory  Yes  Food and Beverage   \n",
       "2     1.0            1.0                      Wispots   No  Business Services   \n",
       "3     1.0            1.0  College Foxes Packing Boxes   No   Lifestyle / Home   \n",
       "4     1.0            1.0                    Ionic Ear   No  Uncertain / Other   \n",
       "\n",
       "  Entrepreneur Gender  Amount  Equity  Corcoran  Cuban  Greiner  Herjavec  \\\n",
       "0              Female   50000    55.0       1.0    0.0      0.0       0.0   \n",
       "1                Male  460000    50.0       1.0    0.0      0.0       0.0   \n",
       "2                Male       0     0.0       0.0    0.0      0.0       0.0   \n",
       "3                Male       0     0.0       0.0    0.0      0.0       0.0   \n",
       "4                Male       0     0.0       0.0    0.0      0.0       0.0   \n",
       "\n",
       "   John  O'Leary  Harrington  Guest Details / Notes  \n",
       "0   0.0      0.0         0.0    0.0               0  \n",
       "1   1.0      0.0         0.0    0.0               0  \n",
       "2   0.0      0.0         0.0    0.0               0  \n",
       "3   0.0      0.0         0.0    0.0               0  \n",
       "4   0.0      0.0         0.0    0.0               0  "
      ]
     },
     "execution_count": 4,
     "metadata": {},
     "output_type": "execute_result"
    }
   ],
   "source": [
    "# YOUR CODE HERE\n",
    "def clean(x):\n",
    "    '''Removes the $ symbol from the Amount column'''\n",
    "    return x.replace(\"$\", \"\").replace(\",\", \"\").replace(\"%\", \"\")\n",
    "\n",
    "# can use str.replace here\n",
    "df_stank[\"Amount\"] = df_stank[\"Amount\"].astype(str).apply(clean).astype(int)\n",
    "df_stank[\"Equity\"] = df_stank[\"Equity\"].astype(str).apply(clean).astype(float)\n",
    "df_stank.head()"
   ]
  },
  {
   "cell_type": "markdown",
   "metadata": {
    "colab_type": "text",
    "id": "MY8G1ZuRovwE"
   },
   "source": [
    "## Question 1. Which Company was Worth the Most?"
   ]
  },
  {
   "cell_type": "markdown",
   "metadata": {
    "colab_type": "text",
    "id": "VuyDKd9LovwE"
   },
   "source": [
    "The valuation of a company is how much it is worth. If someone invests \\\\$10,000 for a 40\\% equity stake in the company, then this means the company must be valued at \\$25,000, since 40% of \\\\$25,000 is \\\\$10,000.\n",
    "\n",
    "Calculate the valuation of each company that was funded. Which company was most valuable? Is it the same as the company that received the largest total investment from the sharks?"
   ]
  },
  {
   "cell_type": "code",
   "execution_count": 5,
   "metadata": {
    "colab": {},
    "colab_type": "code",
    "id": "9_mHDH2novwF"
   },
   "outputs": [
    {
     "name": "stdout",
     "output_type": "stream",
     "text": [
      "Name: \"Zipz\" (largest company worth)\n",
      " - Amount: $2500000\n",
      " - Equity: 10.0%\n",
      " - Worth: $25000000.0\n",
      "\n",
      "Name: \"AirCar\" (largest amount invested)\n",
      " - Amount: $5000000\n",
      " - Equity: 50.0%\n",
      " - Worth: $10000000.0\n"
     ]
    }
   ],
   "source": [
    "# YOUR CODE HERE\n",
    "# can also drop rows with 0 equity\n",
    "def compute_worth(x):\n",
    "    if (x[\"Equity\"]/100 < 0.01):\n",
    "        return 0.0\n",
    "    return round(x[\"Amount\"] / (x[\"Equity\"] / 100))\n",
    "\n",
    "df_stank[\"Worth\"] = 0.0\n",
    "df_stank[\"Worth\"] = df_stank[[\"Amount\", \"Equity\"]].apply(compute_worth, axis=1)\n",
    "\n",
    "# df_stank[columnname].idxmax <-- look up later\n",
    "df_max_worth = df_stank.loc[ df_stank[\"Worth\"] == df_stank[\"Worth\"].max() ]\n",
    "df_max_inv = df_stank.loc[ df_stank[\"Amount\"] == df_stank[\"Amount\"].max() ]\n",
    "\n",
    "print(f\"Name: \\\"{df_max_worth['Company'].iloc[0].strip()}\\\" (largest company worth)\")\n",
    "print(f\" - Amount: ${df_max_worth['Amount'].iloc[0]}\")\n",
    "print(f\" - Equity: {df_max_worth['Equity'].iloc[0]}%\")\n",
    "print(f\" - Worth: ${df_max_worth['Worth'].iloc[0]}\")\n",
    "\n",
    "print(f\"\\nName: \\\"{df_max_inv['Company'].iloc[0].strip()}\\\" (largest amount invested)\")\n",
    "print(f\" - Amount: ${df_max_inv['Amount'].iloc[0]}\")\n",
    "print(f\" - Equity: {df_max_inv['Equity'].iloc[0]}%\")\n",
    "print(f\" - Worth: ${df_max_inv['Worth'].iloc[0]}\")"
   ]
  },
  {
   "cell_type": "markdown",
   "metadata": {
    "colab_type": "text",
    "id": "RQw_4omBovwK"
   },
   "source": [
    "**YOUR EXPLANATION HERE**\n",
    "\n",
    "The company that is worth the most is named Zipz. It is worth $25,000,000. It is not the same company that received the largest total investment from the sharks. The company which received the largest investment total investment from the sharks is called AirCar, and it received a total amount of $10,000,000."
   ]
  },
  {
   "cell_type": "markdown",
   "metadata": {
    "colab_type": "text",
    "id": "deHlRRDoovwK"
   },
   "source": [
    "## Question 2. Which Shark Invested the Most?"
   ]
  },
  {
   "cell_type": "markdown",
   "metadata": {
    "colab_type": "text",
    "id": "snpYXOcOovwM"
   },
   "source": [
    "Calculate the total amount of money that each shark invested over the 6 seasons. Which shark invested the most total money over the 6 seasons?\n",
    "\n",
    "_Hint:_ If $n$ sharks funded a given venture, then the amount that each shark invested is the total amount divided by $n$."
   ]
  },
  {
   "cell_type": "code",
   "execution_count": 9,
   "metadata": {
    "colab": {},
    "colab_type": "code",
    "id": "1UZfCn-2ovwO"
   },
   "outputs": [
    {
     "data": {
      "image/png": "[encoded data removed]",
      "text/plain": [
       "<Figure size 432x288 with 1 Axes>"
      ]
     },
     "metadata": {},
     "output_type": "display_data"
    },
    {
     "data": {
      "text/plain": [
       "<AxesSubplot:>"
      ]
     },
     "execution_count": 9,
     "metadata": {},
     "output_type": "execute_result"
    },
    {
     "data": {
      "image/png": "[encoded data removed]",
      "text/plain": [
       "<Figure size 432x288 with 1 Axes>"
      ]
     },
     "metadata": {
      "needs_background": "light"
     },
     "output_type": "display_data"
    }
   ],
   "source": [
    "# ENTER CODE HERE.\n",
    "\n",
    "df_stank[\"num_inv\"] = df_stank[\"Corcoran\"] + df_stank[\"Cuban\"] + df_stank[\"Greiner\"] + df_stank[\"Herjavec\"] + df_stank[\"John\"] + df_stank[\"O'Leary\"] + df_stank[\"Harrington\"]\n",
    "\n",
    "# corcoran_inv = 0\n",
    "\n",
    "def calcul_amnt(x):\n",
    "    if (x[2] > 0 and x[0] > 0):\n",
    "        return x[0] / x[1]\n",
    "    return 0.0\n",
    "\n",
    "df_stank[\"CO_I\"] = df_stank[[\"Amount\", \"num_inv\", \"Corcoran\"]].apply(calcul_amnt, axis=1)\n",
    "df_stank[\"CU_I\"] = df_stank[[\"Amount\", \"num_inv\", \"Cuban\"]].apply(calcul_amnt, axis=1) \n",
    "df_stank[\"GR_I\"] = df_stank[[\"Amount\", \"num_inv\", \"Greiner\"]].apply(calcul_amnt, axis=1) \n",
    "df_stank[\"HE_I\"] = df_stank[[\"Amount\", \"num_inv\", \"Herjavec\"]].apply(calcul_amnt, axis=1) \n",
    "df_stank[\"JO_I\"] = df_stank[[\"Amount\", \"num_inv\", \"John\"]].apply(calcul_amnt, axis=1) \n",
    "df_stank[\"OL_I\"] = df_stank[[\"Amount\", \"num_inv\", \"O'Leary\"]].apply(calcul_amnt, axis=1) \n",
    "df_stank[\"HA_I\"] = df_stank[[\"Amount\", \"num_inv\", \"Harrington\"]].apply(calcul_amnt, axis=1) \n",
    "\n",
    "investments = pd.DataFrame(\n",
    "        data=[ df_stank[\"CO_I\"].sum(), df_stank[\"CU_I\"].sum(), df_stank[\"GR_I\"].sum(), df_stank[\"HE_I\"].sum(), df_stank[\"JO_I\"].sum(), df_stank[\"OL_I\"].sum(), df_stank[\"HA_I\"].sum() ],\n",
    "        columns=[\"investment\"],\n",
    "        index=[\"Corcoran\", \"Cuban\", \"Greiner\", \"Herjavec\", \"John\", \"O'Leary\", \"Harrington\"]\n",
    ")\n",
    "\n",
    "investments[\"investment\"].plot(kind=\"pie\", rot=1, title=\"Total investments of each shark\", label=\"\", autopct='%1.1f%%', explode=(0, 0.05, 0, 0, 0, 0, 0))\n",
    "plt.show()\n",
    "investments[\"investment\"].plot(kind=\"bar\")\n",
    "# can multiply every investor by amount / num_inv having dropped rows with amount = 0\n"
   ]
  },
  {
   "cell_type": "markdown",
   "metadata": {
    "colab_type": "text",
    "id": "nAgPUDFKovwR"
   },
   "source": [
    "**YOUR EXPLANATION HERE**\n",
    "\n",
    "As we can see from the pie chart, the shark that invested the most is Mark Cuban, having a total of 27.8% of investments among all the sharks."
   ]
  },
  {
   "cell_type": "markdown",
   "metadata": {
    "colab_type": "text",
    "id": "3vN86vhHovwS"
   },
   "source": [
    "## Question 3. Do the Sharks Prefer Certain Industries?\n",
    "\n",
    "Calculate the funding rate (the proportion of companies that were funded) for each industry. Make a visualization showing this information."
   ]
  },
  {
   "cell_type": "code",
   "execution_count": 7,
   "metadata": {
    "colab": {},
    "colab_type": "code",
    "id": "HoeI9g5NovwT"
   },
   "outputs": [
    {
     "data": {
      "text/plain": [
       "<AxesSubplot:title={'center':'Total investments of each shark'}>"
      ]
     },
     "execution_count": 7,
     "metadata": {},
     "output_type": "execute_result"
    },
    {
     "data": {
      "image/png": "[encoded data removed]",
      "text/plain": [
       "<Figure size 432x288 with 1 Axes>"
      ]
     },
     "metadata": {},
     "output_type": "display_data"
    }
   ],
   "source": [
    "# ENTER CODE HERE.\n",
    "\n",
    "df_stank.groupby(\"Industry\")[\"Amount\"].sum().plot(kind=\"pie\", rot=1, title=\"Total investments of each shark\", label=\"\", autopct='%1.1f%%')\n",
    "\n",
    "## add bar plot later"
   ]
  },
  {
   "cell_type": "markdown",
   "metadata": {
    "colab_type": "text",
    "id": "Kl12YJvOovwa"
   },
   "source": [
    "**YOUR EXPLANATION HERE**\n",
    "\n",
    "Yes, the sharks do prefer certain industries. For example, \"Food and Beverage\" industry gathered the most investments from all of the involved sharks. Closely following are the \"Fitness / Sports\" and \"Gree/CleanTech\" industries, though they are beyond 8% less relevant to the sharks than \"Food and Beverage.\""
   ]
  },
  {
   "cell_type": "markdown",
   "metadata": {
    "colab_type": "text",
    "id": "KaVqM_7xovwc"
   },
   "source": [
    "## Submission Instructions\n",
    "\n",
    "Once you are finished, follow these steps:\n",
    "\n",
    "1. Restart the kernel and re-run this notebook from beginning to end by going to `Kernel > Restart Kernel and Run All Cells`.\n",
    "\n",
    "2. If this process stops halfway through, that means there was an error. Correct the error and repeat Step 1 until the notebook runs from beginning to end.\n",
    "\n",
    "3. Double check that there is a number next to each code cell and that these numbers are in order.\n",
    "\n",
    "Then, submit your lab as follows:\n",
    "\n",
    "1. Go to `File > Export Notebook As > PDF`.\n",
    "\n",
    "2. Double check that the entire notebook, from beginning to end, is in this PDF file. (If the notebook is cut off, try first exporting the notebook to HTML and printing to PDF.)\n",
    "\n",
    "3. Upload the PDF to Gradescope and Notebook (ipynb) to canvas (one submission per group).\n",
    "\n",
    "4. Demo your lab if you want to know your score right away."
   ]
  }
 ],
 "metadata": {
  "colab": {
   "name": "2A. Shark Tank.ipynb",
   "provenance": []
  },
  "kernelspec": {
   "display_name": "Python 3",
   "language": "python",
   "name": "python3"
  },
  "language_info": {
   "codemirror_mode": {
    "name": "ipython",
    "version": 3
   },
   "file_extension": ".py",
   "mimetype": "text/x-python",
   "name": "python",
   "nbconvert_exporter": "python",
   "pygments_lexer": "ipython3",
   "version": "3.9.6"
  }
 },
 "nbformat": 4,
 "nbformat_minor": 1
}

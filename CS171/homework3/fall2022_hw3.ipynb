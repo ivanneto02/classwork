{
  "cells": [
    {
      "cell_type": "markdown",
      "metadata": {
        "id": "UKc8K9_57UEz"
      },
      "source": [
        "# CS171-EE142 - Fall 2022 - Homework 3\n",
        "\n",
        "# Due: Tuesday, November 15, 2022 @ 11:59pm\n",
        "\n",
        "### Maximum points: 80 pts\n",
        "\n",
        "\n",
        "## Submit your solution to Gradescope:\n",
        "1. Submit a single PDF to **HW3**\n",
        "2. Submit your jupyter notebook to **HW3-code**\n",
        "\n",
        "**See the additional submission instructions at the end of this notebook**"
      ]
    },
    {
      "cell_type": "markdown",
      "metadata": {
        "id": "JL5tIX4c9z6s"
      },
      "source": [
        "\n",
        "## Enter your information below:\n",
        "\n",
        "### Your Name (submitter): Ivan Neto\n",
        "\n",
        "### Your student ID (submitter): 862228249\n",
        "    \n",
        "    \n",
        "<b>By submitting this notebook, I assert that the work below is my own work, completed for this course.  Except where explicitly cited, none of the portions of this notebook are duplicated from anyone else's work or my own previous work.</b>\n",
        "\n",
        "\n",
        "## Academic Integrity\n",
        "Each assignment should be done  individually. You may discuss general approaches with other students in the class, and ask questions to the TAs, but  you must only submit work that is yours . If you receive help by any external sources (other than the TA and the instructor), you must properly credit those sources, and if the help is significant, the appropriate grade reduction will be applied. If you fail to do so, the instructor and the TAs are obligated to take the appropriate actions outlined at http://conduct.ucr.edu/policies/academicintegrity.html . Please read carefully the UCR academic integrity policies included in the link.\n"
      ]
    },
    {
      "cell_type": "markdown",
      "metadata": {
        "id": "hsywQWEI8pzj"
      },
      "source": [
        "# Overview \n",
        "In this assignment you will implement a two-layer neural network. You will implement the loss functions, gradients, optimizers to train the network and test its performance on MNIST dataset. \n",
        "\n",
        "For this assignment we will use the functionality of Pandas (https://pandas.pydata.org/), Matplotlib (https://matplotlib.org/), and Numpy (http://www.numpy.org/). \n",
        "\n",
        "If you are asked to **implement** a particular functionality, you should **not** use an existing implementation from the libraries above (or some other library that you may find). When in doubt, please ask. \n",
        "\n",
        "Before you start, make sure you have installed all those packages in your local Jupyter instance\n",
        "\n",
        "## Read *all* cells carefully and answer all parts (both text and missing code)\n",
        "\n",
        "You will complete all the code marked `TODO` and answer descriptive/derivation questions \n",
        "\n"
      ]
    },
    {
      "cell_type": "code",
      "execution_count": 351,
      "metadata": {
        "id": "3d6urIY6Ci2D"
      },
      "outputs": [],
      "source": [
        "import numpy as np\n",
        "import matplotlib.pyplot as plt\n",
        "\n",
        "# make sure you import here everything else you may need"
      ]
    },
    {
      "cell_type": "markdown",
      "metadata": {
        "id": "9vBsJizSAN5C"
      },
      "source": [
        "### Load MNIST Dataset \n",
        "\n",
        "For this assignment, we will use [MNIST](https://en.wikipedia.org/wiki/MNIST_database) handwritten digits data set. The dataset consists 10 handwritten digits (0,1,...,9). It is a widely used dataset to demonstrate simple image classification problem.\n",
        "\n",
        "MNIST dataset is publicly available from different sources. We will be using MNIST from Keras package. If you do not have Keras installed, you can find the installation guide [here](https://www.tutorialspoint.com/keras/keras_installation.htm). \n",
        "\n",
        "In short, you need to run ```conda install -c anaconda keras``` or ```pip install keras```\n",
        "\n",
        "The training data consists of 60000 images of size $28 \\times 28$ pixels; the test data consists of 10000 images."
      ]
    },
    {
      "cell_type": "code",
      "execution_count": 352,
      "metadata": {
        "colab": {
          "base_uri": "https://localhost:8080/",
          "height": 180
        },
        "id": "Jdo3YbSzAN5D",
        "outputId": "ffd1f968-0e85-4e3e-f6f1-5f06cd4a9ddd"
      },
      "outputs": [
        {
          "name": "stdout",
          "output_type": "stream",
          "text": [
            "Training data shape: (60000, 28, 28)\n",
            "Test data shape: (10000, 28, 28)\n"
          ]
        },
        {
          "data": {
            "image/png": "[encoded data removed]",
            "text/plain": [
              "<Figure size 2000x200 with 10 Axes>"
            ]
          },
          "metadata": {},
          "output_type": "display_data"
        }
      ],
      "source": [
        "from keras.datasets import mnist\n",
        "(x_train, y_train), (x_test, y_test) = mnist.load_data()\n",
        "\n",
        "print('Training data shape:',x_train.shape)\n",
        "print('Test data shape:',x_test.shape)\n",
        "\n",
        "n_img=10\n",
        "plt.figure(figsize=(n_img*2,2))\n",
        "plt.gray()\n",
        "for i in range(n_img):\n",
        "    plt.subplot(1,n_img,i+1)\n",
        "    plt.imshow(x_train[i])\n",
        "plt.show()"
      ]
    },
    {
      "cell_type": "markdown",
      "metadata": {
        "id": "Uw4N4norAN5D"
      },
      "source": [
        "We will be vectorizing the training and test images. So, the size of each vector will be 784."
      ]
    },
    {
      "cell_type": "code",
      "execution_count": 353,
      "metadata": {
        "colab": {
          "base_uri": "https://localhost:8080/"
        },
        "id": "VOIMLKYtAN5E",
        "outputId": "0e972bc6-c6ef-4277-ad7a-7d30331ebdc9"
      },
      "outputs": [
        {
          "name": "stdout",
          "output_type": "stream",
          "text": [
            "Training data shape after reshaping: (60000, 784)\n",
            "Test data shape after reshaping:: (10000, 784)\n"
          ]
        }
      ],
      "source": [
        "x_train=x_train.reshape(x_train.shape[0],-1)\n",
        "x_test=x_test.reshape(x_test.shape[0],-1)\n",
        "\n",
        "print('Training data shape after reshaping:',x_train.shape)\n",
        "print('Test data shape after reshaping::',x_test.shape)"
      ]
    },
    {
      "cell_type": "markdown",
      "metadata": {
        "id": "iHVQmrbIAN4-"
      },
      "source": [
        "## Question 1: Binary classification using neural network [45 pts]\n",
        "\n",
        "We will start with classification of images for two different digits using a two-layer network with a cross entropy loss. \n",
        "\n",
        "In the next question, we will extend the same architecture to multi-class classification. \n",
        "\n",
        "Pick any two digits out of ten for our classification (say 5 and 8), which we will assign label \"0\" or \"1\". \n",
        "\n",
        "Pick same number of images from each class for training and create arrays for input and output (say 1000). \n",
        "\n",
        "```\n",
        "# train_x -- N x 784 array of training input\n",
        "# train_y -- N x 1 array of binary labels \n",
        "```  \n",
        "\n",
        "If you use 1000 images from each class N = 2000. You can increase the number of training samples if you like. It is just a suggestion. \n",
        "\n",
        "\n",
        "We also need to transpose the dimension of the data so that their size becomes $784\\times N$. It will be helpful to feed it to our model based on our notations.\n"
      ]
    },
    {
      "cell_type": "code",
      "execution_count": 354,
      "metadata": {
        "id": "fir2-wZWAN5E"
      },
      "outputs": [
        {
          "name": "stdout",
          "output_type": "stream",
          "text": [
            "Training data shape: (784, 2000)\n",
            "Test data shape: (784, 1866)\n"
          ]
        }
      ],
      "source": [
        "def extract_binary_classification_dataset(x, y, label1, label2, num_samples):\n",
        "    \"\"\"Make a subset dataset from MNIST, containing only 2 classes for binary classification task \n",
        "    Args:\n",
        "        x (numpy.ndarray): data, can be x_train or x_test\n",
        "        y (numpy.ndarray): labels of data, can be y_train or y_test\n",
        "        label1 (int): the first class you pick, e.g. 5\n",
        "        label2 (int): the second class you pick, e.g. 8\n",
        "        num_samples (int): the number of images you select for each class, e.g. 1000\n",
        "    Returns:\n",
        "        x_ (numpy.ndarray): the data for 2 picked classes\n",
        "        y_ (numpy.ndarray): the corresponding labels for 2 picked classes\n",
        "    \"\"\"\n",
        "    # for class 1\n",
        "    x1 = x[y == label1]\n",
        "    x1 = x1[:num_samples]\n",
        "    y1 = np.zeros(len(x1))\n",
        "\n",
        "    # for class 2\n",
        "    x2 = x[y == label2]\n",
        "    x2 = x2[:num_samples]\n",
        "    y2 = np.ones(len(x2))\n",
        "\n",
        "    # combine 2 classes\n",
        "    x_ = np.concatenate((x1,x2),axis=0)\n",
        "    y_ = np.concatenate((y1,y2),axis=0)\n",
        "    return x_, y_\n",
        "\n",
        "\n",
        "# Pick your own digits\n",
        "label1 = 5\n",
        "label2 = 8\n",
        "num_samples = 1000\n",
        "\n",
        "# Train & test data\n",
        "train_x, train_y = extract_binary_classification_dataset(x_train, y_train, label1, label2, num_samples)\n",
        "test_x, test_y = extract_binary_classification_dataset(x_test, y_test, label1, label2, num_samples)\n",
        "\n",
        "# reshape data \n",
        "train_x = train_x.T\n",
        "test_x = test_x.T\n",
        "print(\"Training data shape:\", train_x.shape)\n",
        "print(\"Test data shape:\", test_x.shape)"
      ]
    },
    {
      "cell_type": "markdown",
      "metadata": {
        "id": "HdeO0YieAN5E"
      },
      "source": [
        "### Network Architecture\n",
        "\n",
        "We will be using a two layer neural network in our experiment. The input layer will have 784 nodes, the hidden layer will have 256 nodes and the output layer will have 1 node. Each node will have $\\textit{sigmoid}$ activation function.\n",
        "\n",
        "The equations for feedforward operation will be the following:\n",
        "\n",
        "$$\\mathbf{z}^{(1)}=W^{(1)} \\mathbf{x}+ \\mathbf{b}^{(1)}\\\\\\mathbf{y}^{(1)}=\\varphi(\\mathbf{z}^{(1)})\\\\\\mathbf{z}^{(2)}=W^{(2)}  \\mathbf{y}^{(1)}+ \\mathbf{b}^{(2)} \\\\\\mathbf{y}^{(2)}=\\varphi(\\mathbf{z}^{(2)})$$\n",
        "\n",
        "where $\\mathbf{x}\\in \\mathbb{R}^{784}$ is the input layer, $\\mathbf{y}^{(1)}\\in \\mathbb{R}^{256}$ is the hidden layer, $\\mathbf{y}^{(2)} \\in \\mathbb{R}$ is the output layer, $W^{(1)}\\in \\mathbb{R}^{256\\times 784}$ is the first layer weights, $W^{(2)}\\in \\mathbb{R}^{1\\times 256}$ is the second layer weights, $\\mathbf{b}^{(1)}\\in \\mathbb{R}^{256}$ is the first layer bias, $\\mathbf{b}^{(2)}\\in \\mathbb{R}$ is the second layer bias, $\\varphi(\\cdot)$ is the activation function."
      ]
    },
    {
      "cell_type": "markdown",
      "metadata": {
        "id": "XWw3zn2_AN5F"
      },
      "source": [
        "### Network initialization [5 pts]\n",
        "\n",
        "We initialize the weights for $W^{(1)}$ and $W^{(2)}$ with random values drawn from normal distribution with zero mean and 0.01 standard deviation. We will initialize bias vectors $\\mathbf{b}^{(1)}$ and $\\mathbf{b^{(2)}}$ with zero values. \n",
        "\n",
        "We can fix the seed for random initialization for reproducibility."
      ]
    },
    {
      "cell_type": "code",
      "execution_count": 355,
      "metadata": {
        "id": "5k52OUaoAN5F"
      },
      "outputs": [],
      "source": [
        "def TwoLayerNetwork(layer_dims=[784,256,1]):\n",
        "    # Fix the seed\n",
        "    np.random.seed(3)\n",
        "\n",
        "    # TODO\n",
        "    # grab [784, 256]\n",
        "    w1 = np.random.normal(loc=0, scale=0.01, size=[256, 784])\n",
        "    # grab [256, 1]\n",
        "    w2 = np.random.normal(loc=0, scale=0.01, size=[1, 256])\n",
        "    # init b1\n",
        "    b1 = np.zeros((layer_dims[1], 1))\n",
        "    # init b2\n",
        "    b2 = np.zeros((layer_dims[2], 1))\n",
        "\n",
        "    return [w1, b1, w2, b2]"
      ]
    },
    {
      "cell_type": "markdown",
      "metadata": {
        "id": "0xLDm_wkAN5F"
      },
      "source": [
        "### Sigmoid activation function \n",
        "Now we will write the sigmoid activation function as \n",
        "\n",
        "$$ \\varphi(z) = \\frac{1}{1+e^{-z}}$$\n",
        "\n",
        "Note that derivative of __sigmoid__ is $\\varphi'(z) = \\varphi(z) (1-\\varphi(z))$. "
      ]
    },
    {
      "cell_type": "code",
      "execution_count": 356,
      "metadata": {
        "id": "_CPxvM0UAN5F"
      },
      "outputs": [],
      "source": [
        "def sigmoid(Z):\n",
        "    # Input: Z -- numpy.ndarray\n",
        "    # TODO\n",
        "    probs = 1 / (1 + np.e**(-Z))\n",
        "    return probs"
      ]
    },
    {
      "cell_type": "markdown",
      "metadata": {
        "id": "GGuGMhzeAN5G"
      },
      "source": [
        "### Cross entropy loss function [5 pts]\n",
        "We will minimize the binary cross entropy loss function. You will use the true labels and predicted labels of a batch of N samples. \n",
        "\n",
        "Binary crossentropy loss for $i^{th}$ sample can be written as \n",
        "\n",
        "$$Loss_i = -y_i \\log y^{(2)}_i- (1-y_i) \\log (1-y^{(2)}_i)$$\n",
        "\n",
        "where $y_i$ is the true label. We can find the average loss for a batch of N samples as $Loss=\\frac{1}{N}\\sum_{i=1}^{N} Loss_i$.\n",
        "\n",
        "Note that the gradient of the cross entropy loss w.r.t. the output is \n",
        "\n",
        "$$ \\nabla_{y^{(2)}} Loss_i = -\\frac{y_i}{y_i^{(2)}} + \\frac{1-y_i}{1-y_i^{(2)}} = \\frac{y_i^{(2)}-y_i}{y_i^{(2)}(1-y_i^{(2)})}.$$\n",
        "\n",
        "We can also show that $$\\delta^{(2)} = \\nabla_{\\mathbf{z}^{(2)}} Loss_i  = \\nabla_{y^{(2)}} Loss_i \\odot \\varphi'(\\mathbf{z})= y_i^{(2)}-y_i,$$ \n",
        "where $\\odot$ denotes element-wise multiplication of the arrays. "
      ]
    },
    {
      "cell_type": "code",
      "execution_count": 357,
      "metadata": {
        "id": "l7KkfTXeAN5G"
      },
      "outputs": [],
      "source": [
        "def CrossEntropyLoss(Y_true, Y2):\n",
        "    # TODO \n",
        "    losses = (-Y_true) * np.log(Y2) - (1 - Y_true) * np.log(1 - Y2)\n",
        "    return np.average(losses)"
      ]
    },
    {
      "cell_type": "markdown",
      "metadata": {
        "id": "EnFFFVP1AN5F"
      },
      "source": [
        "### Forward propagation  [5 pts]\n",
        "Next, we will write the code for the forward pass for two layer network. Each layer consists of an affine function (fully-connected layer) followed by an activation function. You wil also return the intermediate results ($\\mathbf{x}, \\mathbf{z}^{(1)}, \\mathbf{y}^{(1)}, \\mathbf{z}^{(2)}  $) in addition to final output ($\\mathbf{y}^{(2)}$). You will need the intermediate outputs for the backpropagation step."
      ]
    },
    {
      "cell_type": "code",
      "execution_count": 358,
      "metadata": {
        "id": "oBHoC1_TAN5F"
      },
      "outputs": [],
      "source": [
        "def forward(X, params):\n",
        "    # TODO \n",
        "    \n",
        "    # X -- 784 x N array \n",
        "    # params -- \n",
        "      # W1 -- 256 x 784 matrix \n",
        "      # b1 -- 256 x 1 vector \n",
        "      # W2 -- 1 x 256 matrix \n",
        "      # b2 -- 1 x 1 scalar \n",
        "    # Y2 -- 1 x N output \n",
        "    \n",
        "    # grab all parameters\n",
        "    W1 = params[0]\n",
        "    B1 = params[1]\n",
        "    W2 = params[2]\n",
        "    B2 = params[3]\n",
        "\n",
        "    # Compute forward propagation\n",
        "    Z1 = W1 @ X + B1\n",
        "    Y1 = sigmoid(Z1)\n",
        "    Z2 = W2 @ Y1 + B2\n",
        "    Y2 = sigmoid(Z2)\n",
        "    \n",
        "    return Y2, [X, Z1, Y1, Z2]"
      ]
    },
    {
      "cell_type": "markdown",
      "metadata": {
        "id": "I4ZM2NLAAN5G"
      },
      "source": [
        "### Backpropagration step [10 pts]\n",
        "Now we will implement the backpropagation step for the two layer neural network. \n",
        "\n",
        "You will need the gradient of the Loss w.r.t. $W^{(l)},\\mathbf{b}^{(l)}$ for $l = 1,2$ for all the training samples.  \n",
        "\n",
        "\n",
        "\n",
        "We saw that we can write the gradient of Loss with respect to $W^{(l)}, \\mathbf{b}^{(l)}$ for a single sample as\n",
        "\n",
        "$$\\nabla_{W^{(l)}} Loss_i = \\delta^{(l)} \\mathbf{y}^{(l-1)T},$$  \n",
        "$$\\nabla_{\\mathbf{b}^{(l)}} Loss_i = \\delta^{(l)},$$\n",
        "\n",
        "where \n",
        "$$\\delta^{(l)} = \\nabla_{\\mathbf{z}^{(l)}} Loss_i = \\nabla_{\\mathbf{y}^{(l)}} Loss_i \\odot \\varphi'(\\mathbf{z}^{(l)}).$$ \n",
        "\n",
        "\n",
        "For the the last layer, we can compute $\\delta^{(L)}$ by plugging the value of $\\nabla_{\\mathbf{y}^{(L)}} Loss$ as described above. \n",
        "\n",
        "For the intermediate layers $l<L$, we can write \n",
        "$$\\delta^{(l)} = W^{(l+1)T}\\delta^{(l+1)} \\odot \\varphi'(\\mathbf{z}^{(l)}).$$ \n",
        "\n",
        "\n",
        "\n",
        "**Once we have the gradients $\\nabla_{W^{(l)}} Loss_i, \\nabla_{\\mathbf{b}^{(l)}} Loss_i$ for all $i$. We can compute their average to compute the gradient of the total loss function $\\frac{1}{N} \\sum_{i=1}^N Loss_i$ as**\n",
        "\n",
        "$$\\nabla_{W^{(l)}} Loss = \\frac{1}{N} \\sum_i \\nabla_{W^{(l)}} Loss_i, $$\n",
        "$$ \\nabla_{\\mathbf{b}^{(l)}} Loss = \\frac{1}{N} \\sum_i  \\nabla_{\\mathbf{b}^{(l)}} Loss_i.$$\n",
        "\n",
        "**Please refer to the slides and lectures for more details.**"
      ]
    },
    {
      "cell_type": "code",
      "execution_count": 359,
      "metadata": {
        "id": "ODa4OXAqAN5G"
      },
      "outputs": [],
      "source": [
        "def backward(Y_true, Y2, intermediate, params):\n",
        "    \n",
        "    # Inputs: \n",
        "      # Y_true -- 1 x N true labels\n",
        "      # Y2 -- 1 x N output of the last layer\n",
        "      # intermediate -- X, Z1, Y1, Z2 \n",
        "      # params -- W1, b1, W2, b2 \n",
        "    \n",
        "    # Outputs:\n",
        "      # grads -- [grad_W1, grad_b1, grad_W2, grad_b2]\n",
        "    \n",
        "    X  = intermediate[0]\n",
        "    Z1 = intermediate[1]\n",
        "    Y1 = intermediate[2]\n",
        "    Z2 = intermediate[3]\n",
        "\n",
        "    W2 = params[2]\n",
        "\n",
        "    sigmoid_p_Z2 = np.multiply(sigmoid(Z2), (1 - sigmoid(Z2)))\n",
        "    grad_loss_y2 = (Y2 - Y_true) / (Y2*(1 - Y2))\n",
        "    d2 = np.multiply(grad_loss_y2, sigmoid_p_Z2)\n",
        "\n",
        "    sigmoid_p_Z1 = np.multiply(sigmoid(Z1), (1 - sigmoid(Z1)))\n",
        "    d1 = np.multiply((np.transpose(W2) @ d2), sigmoid_p_Z1)\n",
        "\n",
        "    grad_w1 = np.dot(d1, np.transpose(X)) / len(Y_true)\n",
        "    grad_b1 = np.sum(d1, axis=1, keepdims=True) / len(Y_true)\n",
        "    grad_w2 = np.dot(d2, np.transpose(Y1)) / len(Y_true)\n",
        "    grad_b2 = np.sum(d2, axis=1, keepdims=True) / len(Y_true)\n",
        "\n",
        "    return [grad_w1, grad_b1, grad_w2, grad_b2]"
      ]
    },
    {
      "cell_type": "markdown",
      "metadata": {
        "id": "GlHu8oIaAN5G"
      },
      "source": [
        "### Optimizer [5 pts]\n",
        "We will use a standard gradient descent-based optimizer to minimize the loss function. You have already implemented gradient descent in HW2. You may have to adjust learning rate that provides you best training/validation performance. In this exercise, we are not using validation data; in practice, you should use it to tune your hyperparameters such as learning rate, network architecture etc.\n",
        "\n",
        "You can use same learning rate for all weights in this assignment. \n",
        "\n",
        "You should update $W^1, \\mathbf{b}^1, W^2, \\mathbf{b}^2$ as \n",
        "$$ W^1 \\gets W^1 - \\alpha \\nabla_{W^1} Loss $$\n",
        "$$ \\mathbf{b}^1 \\gets \\mathbf{b}^1 - \\alpha \\nabla_{\\mathbf{b}^1} Loss $$ \n",
        "$$ W^2 \\gets W^2 - \\alpha \\nabla_{W^2} Loss $$ \n",
        "$$ \\mathbf{b}^2 \\gets \\mathbf{b}^2 - \\alpha \\nabla_{\\mathbf{b}^2} Loss $$ \n",
        "$\\alpha$ is the learning rate. "
      ]
    },
    {
      "cell_type": "code",
      "execution_count": 360,
      "metadata": {
        "id": "noqJ8U_PAN5G"
      },
      "outputs": [],
      "source": [
        "def GD(params, grads, learning_rate):\n",
        "    \n",
        "    # updated params = old params - learning rate * gradient of Loss computed at old params\n",
        "    # TODO \n",
        "     \n",
        "    for i in range(0, len(params)):\n",
        "        params[i] = params[i] - learning_rate * grads[i]   \n",
        "     \n",
        "    return params"
      ]
    },
    {
      "cell_type": "markdown",
      "metadata": {
        "id": "adhSifEGAN5G"
      },
      "source": [
        "### Train the Model [5 pts]\n",
        "We will train the model using the functions we wrote above. \n",
        "\n",
        "First, we specify the number of nodes in the layers, number of epochs and learning rate. Then we initialize the network."
      ]
    },
    {
      "cell_type": "code",
      "execution_count": 361,
      "metadata": {
        "id": "lKwAatEkAN5H"
      },
      "outputs": [],
      "source": [
        "layer_dims = [train_x.shape[0],256,1]\n",
        "epochs = 100\n",
        "lr = 0.01\n",
        "\n",
        "params = TwoLayerNetwork(layer_dims)"
      ]
    },
    {
      "cell_type": "markdown",
      "metadata": {
        "id": "kdi_L3xYAN5H"
      },
      "source": [
        "Then we train the network for the number of epochs specified above. In every epoch, we will do the following:\n",
        "1. Calculate the forward pass to get estimated labels.\n",
        "2. Use the estimated labels calculate loss. We will be recording loss for every epoch.\n",
        "3. Use backpropagation to calculate gradients.\n",
        "4. Use gradient descent to update the weights and biases.\n",
        "\n",
        "You should store the loss value after every epoch in an array ```loss_history```  and print the loss value after every few epochs (say 20). \n"
      ]
    },
    {
      "cell_type": "code",
      "execution_count": 362,
      "metadata": {
        "id": "QtEPxEleAN5H"
      },
      "outputs": [
        {
          "name": "stdout",
          "output_type": "stream",
          "text": [
            "Epoch: 1    | Loss: 0.69134019\n",
            "Epoch: 10   | Loss: 0.61614324\n",
            "Epoch: 20   | Loss: 0.53130191\n",
            "Epoch: 30   | Loss: 0.44487540\n",
            "Epoch: 40   | Loss: 0.36816196\n",
            "Epoch: 50   | Loss: 0.30720631\n",
            "Epoch: 60   | Loss: 0.26108315\n",
            "Epoch: 70   | Loss: 0.22618011\n",
            "Epoch: 80   | Loss: 0.19929726\n",
            "Epoch: 90   | Loss: 0.17817257\n",
            "Epoch: 100  | Loss: 0.16124393\n"
          ]
        }
      ],
      "source": [
        "# TODO \n",
        "\n",
        "loss_history = []\n",
        "for i in range(1, epochs + 1):\n",
        "    _Y2, _intermediate = forward(train_x, params)\n",
        "    loss = CrossEntropyLoss(train_y, _Y2)\n",
        "    if (i % 10 == 0 or i == 1):\n",
        "        print(f\"Epoch: {i: <4} | Loss: {round(loss, 9):.8f}\")\n",
        "    loss_history.append(loss)\n",
        "    grads = backward(train_y, _Y2, _intermediate, params)\n",
        "    params = GD(params, grads, lr)"
      ]
    },
    {
      "cell_type": "markdown",
      "metadata": {
        "id": "2-7VVZ6iAN5H"
      },
      "source": [
        "Now we will plot the recorded loss values vs epochs. We will observe the training loss decreasing with the epochs."
      ]
    },
    {
      "cell_type": "code",
      "execution_count": 363,
      "metadata": {
        "id": "Uu8zTsABAN5H"
      },
      "outputs": [
        {
          "data": {
            "image/png": "[encoded data removed]",
            "text/plain": [
              "<Figure size 640x480 with 1 Axes>"
            ]
          },
          "metadata": {},
          "output_type": "display_data"
        }
      ],
      "source": [
        "plt.figure()\n",
        "plt.plot(loss_history)\n",
        "plt.xlabel(\"Epochs\")\n",
        "plt.ylabel(\"Training Loss\")\n",
        "plt.show()"
      ]
    },
    {
      "cell_type": "markdown",
      "metadata": {
        "id": "8ZlLv1NbAN5H"
      },
      "source": [
        "### Evaluation on test data [5 pts]\n",
        "\n",
        "Now we will be evaluating the accuracy we get from the trained model. We feed training data and test data to the forward model along with the trained parameters. \n",
        "\n",
        "Note that, we need to covert the output probability of the forward pass to binary labels before evaluating accuracy. Since the model provides the posterior probability $p(y = 1 | x)$ in range [0,1]. We can binarize them using 0.5 as a theshold (i.e. if $y_i^{(2)}\\geq 0.5$, $y_i^{(2)} \\gets 1$ otherwise  $y_i^{(2)} \\gets 0$)."
      ]
    },
    {
      "cell_type": "code",
      "execution_count": 364,
      "metadata": {
        "id": "HKZ7BSZjAN5I"
      },
      "outputs": [
        {
          "name": "stdout",
          "output_type": "stream",
          "text": [
            "Training accuracy: 0.972\n",
            "Test accuracy: 0.9469453376205788\n"
          ]
        }
      ],
      "source": [
        "# TODO\n",
        "Y2_train, _ = forward(train_x, params)\n",
        "Y2_train[Y2_train < 0.5] = 0\n",
        "Y2_train[Y2_train >= 0.5] = 1\n",
        "\n",
        "print(\"Training accuracy:\", (Y2_train == train_y).sum() / Y2_train.shape[1])\n",
        "\n",
        "Y2_test, _ = forward(test_x, params)\n",
        "Y2_test[Y2_test < 0.5] = 0\n",
        "Y2_test[Y2_test >= 0.5] = 1\n",
        "\n",
        "print(\"Test accuracy:\", (Y2_test == test_y).sum() / Y2_test.shape[1])"
      ]
    },
    {
      "cell_type": "markdown",
      "metadata": {
        "id": "Ba-laCd-4OkR"
      },
      "source": [
        "### Visualize some of the correct/miscalassified images [5 pts]\n",
        "\n",
        "Now we will look at some images from training and test sets that were misclassified. \n",
        "\n",
        "Training set. \n",
        "Pick 5 images from each class that are correcly and incorreclty classified. \n",
        "True/False Positive/Negatives\n",
        "\n",
        "Test set. \n",
        "Pick 5 images from each class that are correcly and incorreclty classified. \n",
        "True/False Positive/Negatives\n"
      ]
    },
    {
      "cell_type": "code",
      "execution_count": 365,
      "metadata": {
        "id": "1O5zZTCn4N18"
      },
      "outputs": [
        {
          "name": "stdout",
          "output_type": "stream",
          "text": [
            "Training set examples for true/false positive/negative\n"
          ]
        },
        {
          "data": {
            "image/png": "[encoded data removed]",
            "text/plain": [
              "<Figure size 1200x1200 with 5 Axes>"
            ]
          },
          "metadata": {},
          "output_type": "display_data"
        },
        {
          "data": {
            "image/png": "[encoded data removed]",
            "text/plain": [
              "<Figure size 1200x1200 with 5 Axes>"
            ]
          },
          "metadata": {},
          "output_type": "display_data"
        }
      ],
      "source": [
        "# TODO \n",
        "# Training set\n",
        "print(\"Training set examples for true/false positive/negative\")\n",
        "Y_hat, caches = forward(train_x, params)\n",
        "\n",
        "def shuffle_three(a, b, c):\n",
        "    index = np.random.permutation(len(a))\n",
        "    return a[index], b[index], c[index]\n",
        "\n",
        "tr_y = train_y.reshape((1, len(train_y)))\n",
        "\n",
        "Y_hat, tr_y, tr_x = shuffle_three(Y_hat[0], tr_y[0], train_x.T)\n",
        "\n",
        "# Create classification vector\n",
        "Y_hat[Y_hat < 0.5] = 0\n",
        "Y_hat[Y_hat >= 0.5] = 1\n",
        "\n",
        "# Create array filters\n",
        "train_corr = tr_y == Y_hat\n",
        "train_inco = tr_y != Y_hat\n",
        "\n",
        "Y_hat_corr = Y_hat[train_corr]\n",
        "\n",
        "# # perform filtering to plot images\n",
        "Y_hat_corr = Y_hat[train_corr]\n",
        "Y_hat_inco = Y_hat[train_inco]\n",
        "Y_train_corr = tr_y[train_corr]\n",
        "Y_train_inco = tr_y[train_inco]\n",
        "correct_images = tr_x[train_corr]\n",
        "incorrect_images = tr_x[train_inco]\n",
        "\n",
        "fig = plt.figure(figsize=(12, 12))\n",
        "# print correctly classified images\n",
        "for i in range(0, 5):\n",
        "    ax = fig.add_subplot(1, 5, i + 1)\n",
        "    img = plt.imshow(correct_images[i].reshape(28, 28))\n",
        "    corr = 5 if (Y_train_corr[i] == 0) else 8\n",
        "    guess = 5 if (Y_hat_corr[i] == 0) else 8\n",
        "    ax.set_title(f\"Corr: {corr} | Guess: {guess}\")\n",
        "    ax.axis(\"off\")\n",
        "\n",
        "fig = plt.figure(figsize=(12, 12))\n",
        "# print incorrectly classified images\n",
        "for i in range(0, 5):\n",
        "    ax = fig.add_subplot(1, 5, i + 1)\n",
        "    img = plt.imshow(incorrect_images[i].reshape(28, 28))\n",
        "    corr = 5 if (Y_train_inco[i] == 0) else 8\n",
        "    guess = 5 if (Y_hat_inco[i] == 0) else 8\n",
        "    ax.set_title(f\"Corr: {corr} | Guess: {guess}\")\n",
        "    ax.axis(\"off\")"
      ]
    },
    {
      "cell_type": "code",
      "execution_count": 366,
      "metadata": {
        "id": "jym9VlP-_0rd"
      },
      "outputs": [
        {
          "name": "stdout",
          "output_type": "stream",
          "text": [
            "test set examples for true/false positive/negative\n"
          ]
        },
        {
          "data": {
            "image/png": "[encoded data removed]",
            "text/plain": [
              "<Figure size 1200x1200 with 5 Axes>"
            ]
          },
          "metadata": {},
          "output_type": "display_data"
        },
        {
          "data": {
            "image/png": "[encoded data removed]",
            "text/plain": [
              "<Figure size 1200x1200 with 5 Axes>"
            ]
          },
          "metadata": {},
          "output_type": "display_data"
        }
      ],
      "source": [
        "# TODO \n",
        "# Training set\n",
        "print(\"test set examples for true/false positive/negative\")\n",
        "Y_hat, caches = forward(test_x, params)\n",
        "\n",
        "def shuffle_three(a, b, c):\n",
        "    index = np.random.permutation(len(a))\n",
        "    return a[index], b[index], c[index]\n",
        "\n",
        "te_y = test_y.reshape((1, len(test_y)))\n",
        "\n",
        "Y_hat, te_y, te_x = shuffle_three(Y_hat[0], te_y[0], test_x.T)\n",
        "\n",
        "# Create classification vector\n",
        "Y_hat[Y_hat < 0.5] = 0\n",
        "Y_hat[Y_hat >= 0.5] = 1\n",
        "\n",
        "# Create array filters\n",
        "train_corr = te_y == Y_hat\n",
        "train_inco = te_y != Y_hat\n",
        "\n",
        "Y_hat_corr = Y_hat[train_corr]\n",
        "\n",
        "# # perform filtering to plot images\n",
        "Y_hat_corr = Y_hat[train_corr]\n",
        "Y_hat_inco = Y_hat[train_inco]\n",
        "Y_test_corr = te_y[train_corr]\n",
        "Y_test_inco = te_y[train_inco]\n",
        "correct_images = te_x[train_corr]\n",
        "incorrect_images = te_x[train_inco]\n",
        "\n",
        "fig = plt.figure(figsize=(12, 12))\n",
        "# print correctly classified images\n",
        "for i in range(0, 5):\n",
        "    ax = fig.add_subplot(1, 5, i + 1)\n",
        "    img = plt.imshow(correct_images[i].reshape(28, 28))\n",
        "    corr = 5 if (Y_test_corr[i] == 0) else 8\n",
        "    guess = 5 if (Y_hat_corr[i] == 0) else 8\n",
        "    ax.set_title(f\"Corr: {corr} | Guess: {guess}\")\n",
        "    ax.axis(\"off\")\n",
        "\n",
        "fig = plt.figure(figsize=(12, 12))\n",
        "# print incorrectly classified images\n",
        "for i in range(0, 5):\n",
        "    ax = fig.add_subplot(1, 5, i + 1)\n",
        "    img = plt.imshow(incorrect_images[i].reshape(28, 28))\n",
        "    corr = 5 if (Y_test_inco[i] == 0) else 8\n",
        "    guess = 5 if (Y_hat_inco[i] == 0) else 8\n",
        "    ax.set_title(f\"Corr: {corr} | Guess: {guess}\")\n",
        "    ax.axis(\"off\")"
      ]
    },
    {
      "cell_type": "markdown",
      "metadata": {
        "id": "XBEj5ST72SG6"
      },
      "source": [
        "\n",
        "\n",
        "---\n",
        "\n"
      ]
    },
    {
      "cell_type": "markdown",
      "metadata": {
        "id": "zoli2hpzp2gy"
      },
      "source": [
        "## Question 2. Multiclass classification [35 pts] \n",
        "\n",
        "Now we will build a classifier to separate all the digits. For this purpose, we will only change the last layer and the loss. \n",
        "\n",
        "\n",
        "Instead of using a single output, we will provide 10 outputs; and instead of using a binary cross entropy loss, we will use mutli-class cross entropy loss. \n",
        "\n",
        "In multinomal logistic regression (aka softmax regression), we define the posterior probability of label $y \\in \\{0,\\ldots, K-1\\}$ as \n",
        "\n",
        "\n",
        "$$p(y = c | \\mathbf{x}) = \\frac{\\exp(\\mathbf{w}_c^T\\mathbf{x})}{\\sum_{k=1}^K \\exp(\\mathbf{w}_k^T\\mathbf{x})} = \\mathbf{p}_c.$$ \n",
        "\n",
        "In other words, last layer of the network provides a probability vector $\\mathbf{p} \\in \\mathbb{R}^K$, such that each $0 \\le \\mathbf{p}_c \\le 1$ and $\\sum_c \\mathbf{p}_c = 1$. "
      ]
    },
    {
      "cell_type": "markdown",
      "metadata": {
        "id": "vxGPKVAUBO-w"
      },
      "source": [
        "### Softmax function [5 pts]\n",
        "\n",
        "Let us first define the softmax function, which is a multinomal extension of the sigmoid function that maps a vector of length $K$ to a probability vector. \n",
        "\n",
        "We can define ```softmax``` function on a vector $\\mathbf{z} \\in \\mathbb{R}^K$ as $\\mathbf{p} = \\text{softmax}(\\mathbf{z})$: \n",
        "\n",
        "$$\\mathbf{p}_c(\\mathbf{z}) = \\frac{\\exp(\\mathbf{z}_c)}{\\sum_{k=1}^K \\exp(\\mathbf{z}_k)}$$\n",
        "\n"
      ]
    },
    {
      "cell_type": "code",
      "execution_count": 367,
      "metadata": {
        "id": "wezeelLcBSCo"
      },
      "outputs": [],
      "source": [
        "def softmax(Z):\n",
        "    # Z -- K x N numpy.ndarray, K is the number of classes, N is the number of samples\n",
        "    # TODO\n",
        "    # print(Z[0])\n",
        "    # print(np.exp(Z))\n",
        "    # print(\"================\")\n",
        "    # print(np.sum(np.exp(Z), axis=0))\n",
        "    # print(Z.T[0])\n",
        "    # for i in Z.T[0]:\n",
        "    #     print(i)\n",
        "    return np.exp(Z) / np.sum(np.exp(Z), axis=0)"
      ]
    },
    {
      "cell_type": "markdown",
      "metadata": {
        "id": "9J53N9_wWMUf"
      },
      "source": [
        "We have to note that the numerical range of floating point numbers in numpy is limited. For `float64` the upper bound is $10^{308}$. For exponential, its not difficult to overshoot that limit, in which case python returns `nan`.\n",
        "\n",
        "To make our softmax function numerically stable, we simply normalize the values in the vector, by multiplying the numerator and denominator with a constant `C` as\n",
        "\n",
        "\\begin{align*}\n",
        "\\mathbf{p}_c  &= \\frac{\\exp(\\mathbf{z}_c)}{\\sum_{k=1}^K \\exp(\\mathbf{z}_k)} \\\\\n",
        "& = \\frac{C\\exp(\\mathbf{z}_c)}{C\\sum_{k=1}^K \\exp(\\mathbf{z}_k)}\\\\\n",
        "& = \\frac{\\exp(\\mathbf{z}_c + \\log C)}{C\\sum_{k=1}^K \\exp(\\mathbf{z}_k + \\log C)}.\n",
        "\\end{align*}\n",
        "\n",
        "We can choose an arbitrary value for `log(C)` term, but generally `log(C) = −max(z)` is chosen\n"
      ]
    },
    {
      "cell_type": "code",
      "execution_count": 368,
      "metadata": {
        "id": "JzmyZdoqXO_v"
      },
      "outputs": [],
      "source": [
        "def stable_softmax(Z): \n",
        "    # Z -- K x N numpy.ndarray, K is the number of classes, N is the number of samples\n",
        "    # TODO (this is optional)\n",
        "    # your code goes here\n",
        "    print(\"Z\", Z.shape)\n",
        "    C = - np.max(Z, axis=0, keepdims=True)\n",
        "    print(C)\n",
        "    return np.exp(Z + np.log(C)) / (C * np.sum(np.exp(Z + np.log(C))))"
      ]
    },
    {
      "cell_type": "markdown",
      "metadata": {
        "id": "tSGHPdySbpbj"
      },
      "source": [
        "### Derivative of the softmax function\n",
        "\n",
        "We can show that the derivative of the __softmax__ function with respect to any input can be written as \n",
        "\n",
        "$$ \\frac{\\partial \\mathbf{p}_i}{\\partial \\mathbf{z}_j} = \\begin{cases} \\mathbf{p}_i(1-\\mathbf{p}_j) & i = j \\\\ \\mathbf{p}_i (-\\mathbf{p}_j) & i \\ne j. \\end{cases}$$\n",
        "\n",
        "[More info here](https://deepnotes.io/softmax-crossentropy)\n"
      ]
    },
    {
      "cell_type": "markdown",
      "metadata": {
        "id": "C0qcy_JAArEo"
      },
      "source": [
        "### Multiclass cross entropy loss function [5 pts]\n",
        "\n",
        "We will minimize the cross entropy loss. You will use the true labels and predicted labels of a batch of N samples. \n",
        "\n",
        "The multi-class cross entropy loss for $i^{th}$ sample can be written as \n",
        "$$Loss_i = -\\sum_c \\mathbf{1}(y_i = c) \\log \\mathbf{p}_c $$\n",
        "where $y_i$ is the true label and \n",
        "\n",
        "$$\\mathbf{1}(y_i = c) = \\begin{cases} 1 & y_i =c \\\\ 0 & \\text{otherwise} \\end{cases}$$ \n",
        "is an indicator function. \n",
        "\n",
        "We can find the average loss for a batch of N samples as $Loss=\\frac{1}{N}\\sum_{i=1}^{N} Loss_i$. \n"
      ]
    },
    {
      "cell_type": "code",
      "execution_count": 369,
      "metadata": {
        "id": "tebVzE2SAoTB"
      },
      "outputs": [],
      "source": [
        "def MultiClassCrossEntropyLoss(Y_true, probs):\n",
        "  # probs -- K x N array\n",
        "  # Y_true -- 1 x N array\n",
        "  # loss --  sum Loss_i over N samples\n",
        "  \n",
        "  # Y_true = Y_true.reshape((1, len(Y_true)))[0]\n",
        "\n",
        "  # print(\"probs\", probs.shape)\n",
        "  # print(\"Y_true\", Y_true.shape)\n",
        "  \n",
        "  # print(Y_true)\n",
        "\n",
        "  Y_true = np.array(list(map(int, Y_true)))\n",
        "\n",
        "  tot_range = np.arange(len(Y_true)) # N\n",
        "  # Grab the probabilities\n",
        "  ps = np.transpose(probs)[tot_range, Y_true]\n",
        "  # print(ps)\n",
        "  loss_i = - np.log(ps)\n",
        "  # print(loss_i)\n",
        "\n",
        "  return np.average(loss_i)"
      ]
    },
    {
      "cell_type": "markdown",
      "metadata": {
        "id": "tbRPrVLpjFIo"
      },
      "source": [
        "### Derivative of the cross entropy loss \n",
        "\n",
        "Let us assume that $\\mathbf{p} = \\text{softmax}(\\mathbf{z})$. \n",
        "\n",
        "Note that the derivative of the loss w.r.t. $\\mathbf{p}_j$ can be written as \n",
        "$$\\frac{\\partial Loss_i }{\\partial \\mathbf{p}_j} = \\begin{cases} -1/\\mathbf{p}_j & j = y_i \\\\ 0 & j \\ne y_i \\end{cases}. $$\n",
        "\n",
        "Note that we can use _total derivative_ to compute the derivative of the loss for $i$th sample w.r.t. $j$th entry in $\\mathbf{z}$ as\n",
        "\n",
        "\\begin{align*}\n",
        "\\frac{\\partial Loss_i}{\\partial \\mathbf{z}_j} = \\sum_c \\frac{\\partial Loss_i}{\\partial \\mathbf{p}_c}\\frac{\\partial \\mathbf{p}_c}{\\partial \\mathbf{z}_j}.\n",
        "\\end{align*}\n",
        "\n",
        "From our discussion above, we know that the $\\frac{\\partial Loss_i}{\\partial \\mathbf{p}_c} = 0$ if $c \\ne y_i$. \n",
        "\n",
        "\n",
        "\\begin{align*}\n",
        "\\frac{\\partial Loss_i}{\\partial \\mathbf{z}_j} &= -\\frac{1}{\\mathbf{p}_c} \\frac{\\partial \\mathbf{p}_c}{\\partial \\mathbf{z}_j} \\\\\n",
        "& = \\begin{cases} \\mathbf{p}_j - 1 & j = y_i \\\\ \\mathbf{p}_j & j \\ne y_i. \\end{cases}\n",
        "\\end{align*}\n",
        "\n",
        "Therefore, $$\\delta^{(2)} = \\nabla_{\\mathbf{z}^{(2)}} Loss_i = \\mathbf{p} - \\mathbf{1}_{y_i}.$$\n",
        "\n",
        "where $\\mathbf{1}_{y_i}$ is a __one-hot vector__ that has length $K$ and is zero everywhere except 1 at index same as $y_i$. \n"
      ]
    },
    {
      "cell_type": "markdown",
      "metadata": {
        "id": "462ORdiFLdz2"
      },
      "source": [
        "### Training data\n",
        "\n",
        "Let us pick training data for multi-class classification. \n",
        "\n",
        "Pick same number of images from each class for training and create arrays for input and output. \n",
        "\n",
        "```\n",
        "# train_x -- N x 784 array of training input\n",
        "# train_y -- N x 1 array of labels \n",
        "```  \n",
        "\n",
        "If you use 1000 images from each class N = 10000. You can increase the number of training samples if you like. You may also use unequal number of images in each class. \n",
        "\n",
        "We also need to transpose the dimension of the data so that their size becomes $784\\times N$. It will be helpful to feed it to our model based on our notations."
      ]
    },
    {
      "cell_type": "code",
      "execution_count": 370,
      "metadata": {
        "id": "BZ6Z-yPgL3xm"
      },
      "outputs": [
        {
          "name": "stdout",
          "output_type": "stream",
          "text": [
            "Training data shape: (10000, 784)\n",
            "Test data shape: (10000, 784)\n",
            "Training data shape: (784, 10000)\n",
            "Test data shape: (784, 10000)\n"
          ]
        }
      ],
      "source": [
        "# Pick training samples \n",
        "num_samples = 1000\n",
        "\n",
        "# Training data\n",
        "x = np.zeros((0,784))\n",
        "y = np.zeros((0))\n",
        "for label in range(10):\n",
        "  x1 = x_train[y_train == label]  \n",
        "  x1 = x1[:num_samples]\n",
        "  y1 = y_train[y_train == label]\n",
        "  y1 = y1[:num_samples]\n",
        "  \n",
        "  x = np.concatenate((x,x1),axis=0)\n",
        "  y = np.concatenate((y,y1),axis=0)\n",
        "\n",
        "train_x = x\n",
        "train_y = y\n",
        "print(\"Training data shape:\", train_x.shape)\n",
        "\n",
        "\n",
        "# Test data\n",
        "test_x = x_test\n",
        "test_y = y_test \n",
        "print(\"Test data shape:\", test_x.shape)\n",
        "\n",
        "# reshape data \n",
        "train_x = train_x.T\n",
        "test_x = test_x.T\n",
        "print(\"Training data shape:\", train_x.shape) \n",
        "print(\"Test data shape:\", test_x.shape)"
      ]
    },
    {
      "cell_type": "markdown",
      "metadata": {
        "id": "xoXHKji6L3xo"
      },
      "source": [
        "### Network Architecture\n",
        "\n",
        "We will be using a two layer neural network in our experiment. The input layer has 784 nodes, the hidden layer will have 256 nodes and the output layer will have 10 nodes. First layer will have __sigmoid__ activation and second layer will have __softmax__ activation.\n",
        "\n",
        "The equations for feedforward operation will be as follows.\n",
        "\n",
        "$$\\mathbf{z}^{(1)}=W^{(1)} \\mathbf{x}+ \\mathbf{b}^{(1)}\\\\\\mathbf{y}^{(1)}=\\text{sigmoid}(\\mathbf{z}^{(1)})\\\\\\mathbf{z}^{(2)}=W^{(2)}  \\mathbf{y}^{(1)}+ \\mathbf{b}^{(2)} \\\\\\mathbf{p} = \\mathbf{y}^{(2)}=\\text{softmax}(\\mathbf{z}^{(2)})$$\n",
        "\n",
        "where $\\mathbf{x}\\in \\mathbb{R}^{784}$ is the input layer, $\\mathbf{y}^{(1)}\\in \\mathbb{R}^{256}$ is the hidden layer, $\\mathbf{y}^{(2)} \\in \\mathbb{R}$ is the output layer, $W^{(1)}\\in \\mathbb{R}^{256\\times 784}$ is the first layer weights, $W^{(2)}\\in \\mathbb{R}^{10\\times 256}$ is the second layer weights, $\\mathbf{b}^{(1)}\\in \\mathbb{R}^{256}$ is the first layer bias, $\\mathbf{b}^{(2)}\\in \\mathbb{R}^{10}$ is the second layer bias vector."
      ]
    },
    {
      "cell_type": "markdown",
      "metadata": {
        "id": "2Fqsp1BvL3xp"
      },
      "source": [
        "### Network initialization [5 pts]\n",
        "\n",
        "We initialize the weights for $W^{(1)}$ and $W^{(2)}$ with random values drawn from normal distribution with zero mean and 0.01 standard deviation. We will initialize bias vectors $\\mathbf{b}^{(1)}$ and $\\mathbf{b^{(2)}}$ with zero values. \n",
        "\n",
        "We can fix the seed for random initialization for reproducibility."
      ]
    },
    {
      "cell_type": "code",
      "execution_count": 371,
      "metadata": {
        "id": "nu-3CQlRL3xp"
      },
      "outputs": [],
      "source": [
        "def TwoLayerNetwork(layer_dims=[784,256,10]):\n",
        "    # Fix the seed\n",
        "    np.random.seed(3)\n",
        "\n",
        "    # TODO\n",
        "    # grab [784, 256]\n",
        "    w1 = np.random.normal(loc=0, scale=0.01, size=[256, 784])\n",
        "    # grab [256, 1]\n",
        "    w2 = np.random.normal(loc=0, scale=0.01, size=[10, 256])\n",
        "    # init b1\n",
        "    b1 = np.zeros((layer_dims[1], 1))\n",
        "    # init b2\n",
        "    b2 = np.zeros((layer_dims[2], 1))\n",
        "\n",
        "    return [w1, b1, w2, b2]"
      ]
    },
    {
      "cell_type": "markdown",
      "metadata": {
        "id": "av7l9tOKUuAN"
      },
      "source": [
        "### Forward propagation \n",
        "Next, we will write the code for the forward pass for two layer network. Each layer consists of an affine function (fully-connected layer) followed by an activation function. You wil also return the intermediate results ($\\mathbf{x}, \\mathbf{z}^{(1)}, \\mathbf{y}^{(1)}, \\mathbf{z}^{(2)}$) in addition to final output ($\\mathbf{y}^{(2)}$). You will need the intermediate outputs for the backpropagation step."
      ]
    },
    {
      "cell_type": "code",
      "execution_count": 372,
      "metadata": {
        "id": "kLSoTwFkUuAO"
      },
      "outputs": [],
      "source": [
        "def forward(X, params):\n",
        "    \n",
        "    # TODO \n",
        "    # Write your codes here\n",
        "\n",
        "    # X -- 784 x N array \n",
        "    # params -- \n",
        "      # W1 -- 256 x 784 matrix\n",
        "      # b1 -- 256 x 1 vector\n",
        "      # W2 -- 10 x 256 matrix\n",
        "      # b2 -- 10 x 1 scalar \n",
        "    # probs -- 10 x N output \n",
        " \n",
        "    # grab all parameters\n",
        "    W1 = params[0]\n",
        "    B1 = params[1]\n",
        "    W2 = params[2]\n",
        "    B2 = params[3]\n",
        "\n",
        "    # Compute forward propagation\n",
        "    Z1 = W1 @ X + B1\n",
        "    Y1 = sigmoid(Z1)\n",
        "    Z2 = W2 @ Y1 + B2\n",
        "    Y2 = softmax(Z2)\n",
        "\n",
        "    return Y2, [X, Z1, Y1, Z2]\n",
        "\n",
        "    return probs, intermediate"
      ]
    },
    {
      "cell_type": "markdown",
      "metadata": {
        "id": "Z3QjvXHIUuAO"
      },
      "source": [
        "### Backpropagration step [10 pts]\n",
        "\n",
        "Now we will implement the backpropagation step for the two layer neural network using softmax layer and loss function. \n",
        "\n",
        "\n",
        "You will need the gradient of the Loss w.r.t. $W^{(l)},\\mathbf{b}^{(l)}$ for $l = 1,2$ for all the training samples.  \n",
        "\n",
        "We saw that we can write the gradient of Loss with respect to $W^{(l)}, \\mathbf{b}^{(l)}$ for a single sample as\n",
        "\n",
        "$$\\nabla_{W^{(l)}} Loss_i = \\delta^{(l)} \\mathbf{y}^{(l-1)T},$$  \n",
        "$$\\nabla_{\\mathbf{b}^{(l)}} Loss_i = \\delta^{(l)},$$\n",
        "\n",
        "\n",
        "where \n",
        "$$\\delta^{(l)} = \\nabla_{\\mathbf{z}^{(l)}} Loss = \\nabla_{\\mathbf{y}^{(l)}} Loss \\odot \\varphi'(\\mathbf{z}^{(l)}).$$ \n",
        "\n",
        "We saw above that for an $i$th sample, $\\delta^{(2)} = \\nabla_{\\mathbf{z}^{(2)}} Loss_i = \\mathbf{p} - \\mathbf{1}_{y_i},$ where $\\mathbf{1}_{y_i}$ is a __one-hot vector__ that has length $K$ and is zero everywhere except 1 at index same as $y_i$ and $\\mathbf{p}$ is the outpu probability vector for the $i$th sample. \n",
        "\n",
        "\n",
        "**Once we have the gradients $\\nabla_{W^{(l)}} Loss_i, \\nabla_{\\mathbf{b}^{(l)}} Loss_i$ for all $i$. We can compute their average to compute the gradient of the total loss function as**\n",
        "\n",
        "$$\\nabla_{W^{(l)}} Loss = \\frac{1}{N} \\sum_i \\nabla_{W^{(l)}} Loss_i, $$\n",
        "$$ \\nabla_{\\mathbf{b}^{(l)}} Loss = \\frac{1}{N} \\sum_i  \\nabla_{\\mathbf{b}^{(l)}} Loss_i.$$\n",
        "\n",
        "**Please refer to the slides and lectures for more details.**"
      ]
    },
    {
      "cell_type": "code",
      "execution_count": 373,
      "metadata": {
        "id": "T0hPvx0SUuAP"
      },
      "outputs": [],
      "source": [
        "def backward(Y_true, probs, intermediate, params):\n",
        "    \n",
        "    # Inputs: \n",
        "      # Y_true -- true labels\n",
        "      # probs -- 10 x N output of the last layer\n",
        "      # intermediate -- X, Z1, Y1, Z2 \n",
        "      # params -- W1, b1, W2, b2 \n",
        "    \n",
        "    # Outputs: \n",
        "      # grads -- [grad_W1, grad_b1, grad_W2, grad_b2]\n",
        "    \n",
        "    Y_true = np.array(list(map(int, Y_true)))\n",
        "\n",
        "    # TODO \n",
        "    X  = intermediate[0]\n",
        "    Z1 = intermediate[1]\n",
        "    Y1 = intermediate[2]\n",
        "    Z2 = intermediate[3]\n",
        "\n",
        "    W2 = params[2]\n",
        "\n",
        "    sigmoid_p_Z2 = np.multiply(sigmoid(Z2), (1 - sigmoid(Z2)))\n",
        "\n",
        "    one_hot = np.zeros((len(Y_true), Y_true.max() + 1))\n",
        "    one_hot[np.arange(len(Y_true)), Y_true] = 1\n",
        "\n",
        "    d2 = probs - one_hot.T\n",
        "\n",
        "    # print(np.transpose(W2))\n",
        "    # print(np.transpose(W2).shape)\n",
        "\n",
        "    sigmoid_p_Z1 = np.multiply(sigmoid(Z1), (1 - sigmoid(Z1)))\n",
        "    d1 = np.multiply((np.transpose(W2) @ d2), sigmoid_p_Z1)\n",
        "\n",
        "    grad_w1 = np.dot(d1, np.transpose(X)) / len(Y_true)\n",
        "    grad_b1 = np.sum(d1, axis=1, keepdims=True) / len(Y_true)\n",
        "    grad_w2 = np.dot(d2, np.transpose(Y1)) / len(Y_true)\n",
        "    grad_b2 = np.sum(d2, axis=1, keepdims=True) / len(Y_true)\n",
        "\n",
        "    return [grad_w1, grad_b1, grad_w2, grad_b2]"
      ]
    },
    {
      "cell_type": "markdown",
      "metadata": {
        "id": "1DTxxcDTvVQD"
      },
      "source": [
        "### Train the model [5 pts]\n",
        "We will use the forward and backward functions defined above with the same optimizer defined in the previous question to train our multi-class classificaiton model. \n",
        "\n",
        "We will specify the number of nodes in the layers, number of epochs and learning rate and initialize the network"
      ]
    },
    {
      "cell_type": "code",
      "execution_count": 374,
      "metadata": {
        "id": "xmhkhUisUuAQ"
      },
      "outputs": [],
      "source": [
        "layer_dims = [train_x.shape[0],256,10]\n",
        "epochs = 150\n",
        "lr = 0.1\n",
        "\n",
        "params = TwoLayerNetwork(layer_dims)"
      ]
    },
    {
      "cell_type": "markdown",
      "metadata": {
        "id": "9DZAfG5QUuAQ"
      },
      "source": [
        "Then we train the network for the number of epochs specified above. In every epoch, we will do the following:\n",
        "1. Calculate the forward pass to get estimated labels.\n",
        "2. Use the estimated labels calculate loss. We will be recording loss for every epoch.\n",
        "3. Use backpropagation to calculate gradients.\n",
        "4. Use gradient descent to update the weights and biases.\n",
        "\n",
        "You should store the loss value after every epoch in an array ```loss_history```  and print the loss value after every few epochs (say 20). \n"
      ]
    },
    {
      "cell_type": "code",
      "execution_count": 375,
      "metadata": {
        "id": "P1zSP6g8UuAQ"
      },
      "outputs": [
        {
          "name": "stdout",
          "output_type": "stream",
          "text": [
            "Epoch: 1    | Loss: 2.31565061\n",
            "Epoch: 10   | Loss: 1.39690532\n",
            "Epoch: 20   | Loss: 0.87004367\n",
            "Epoch: 30   | Loss: 0.65785500\n",
            "Epoch: 40   | Loss: 0.46428951\n",
            "Epoch: 50   | Loss: 0.39505617\n",
            "Epoch: 60   | Loss: 0.34480954\n",
            "Epoch: 70   | Loss: 0.37175055\n",
            "Epoch: 80   | Loss: 0.26692055\n",
            "Epoch: 90   | Loss: 0.31117276\n",
            "Epoch: 100  | Loss: 0.23245185\n",
            "Epoch: 110  | Loss: 0.22971836\n",
            "Epoch: 120  | Loss: 0.22545644\n",
            "Epoch: 130  | Loss: 0.18072205\n",
            "Epoch: 140  | Loss: 0.18301675\n",
            "Epoch: 150  | Loss: 0.17701038\n"
          ]
        }
      ],
      "source": [
        "# TODO \n",
        "\n",
        "loss_history = []\n",
        "for i in range(1, epochs + 1):\n",
        "    _Y2, _intermediate = forward(train_x, params)\n",
        "    loss = MultiClassCrossEntropyLoss(train_y, _Y2)\n",
        "    if (i % 10 == 0 or i == 1):\n",
        "        print(f\"Epoch: {i: <4} | Loss: {round(loss, 9):.8f}\")\n",
        "    loss_history.append(loss)\n",
        "    grads = backward(train_y, _Y2, _intermediate, params)\n",
        "    params = GD(params, grads, lr)"
      ]
    },
    {
      "cell_type": "markdown",
      "metadata": {
        "id": "mAtKFEjTUuAQ"
      },
      "source": [
        "Now we will plot the recorded loss values vs epochs. We will observe the training loss decreasing with the epochs."
      ]
    },
    {
      "cell_type": "code",
      "execution_count": 376,
      "metadata": {
        "id": "Hw14IunrUuAQ"
      },
      "outputs": [
        {
          "data": {
            "image/png": "[encoded data removed]",
            "text/plain": [
              "<Figure size 640x480 with 1 Axes>"
            ]
          },
          "metadata": {},
          "output_type": "display_data"
        }
      ],
      "source": [
        "plt.figure()\n",
        "plt.plot(loss_history)\n",
        "plt.xlabel(\"Epochs\")\n",
        "plt.ylabel(\"Training Loss\")\n",
        "plt.show()"
      ]
    },
    {
      "cell_type": "markdown",
      "metadata": {
        "id": "Pf4fN1udUuAR"
      },
      "source": [
        "### Evaluation on test data [5 pts]\n",
        "\n",
        "Now we will be evaluating the accuracy we get from the trained model. We feed training data and test data to the forward model along with the trained parameters. \n",
        "\n",
        "Note that, we need to convert the (probability) output of the forward pass into labels before evaluating accuracy. We can assign label based on the maximum probability. \n",
        "\n",
        "We assign estimated labels $$\\hat{y}_i = \\arg \\max_c  \\mathbf{p}_c $$ for every probility vector. "
      ]
    },
    {
      "cell_type": "code",
      "execution_count": 377,
      "metadata": {
        "id": "KAhOtQigUuAR"
      },
      "outputs": [
        {
          "name": "stdout",
          "output_type": "stream",
          "text": [
            "Training accuracy: 0.9608\n",
            "Test accuracy: 0.9245\n"
          ]
        }
      ],
      "source": [
        "# TODO\n",
        "Y2_train, _ = forward(train_x, params)\n",
        "Y2_train = Y2_train.T\n",
        "Y2_train = np.argmax(Y2_train, axis=1)\n",
        "\n",
        "print(\"Training accuracy:\", (Y2_train == train_y).sum() / len(Y2_train))\n",
        "\n",
        "Y2_test, _ = forward(test_x, params)\n",
        "Y2_test = Y2_test.T\n",
        "Y2_test = np.argmax(Y2_test, axis=1)\n",
        "\n",
        "print(\"Test accuracy:\", (Y2_test == test_y).sum() / len(Y2_test))"
      ]
    },
    {
      "cell_type": "markdown",
      "metadata": {
        "id": "iLjwg5wjMcyB"
      },
      "source": [
        "### Visualize some of the correct/miscalassified images [optional]\n",
        "\n",
        "Now we will look at some images from training and test sets that were misclassified. \n",
        "\n",
        "Training set. \n",
        "Pick example from each class that are correcly and incorreclty classified. \n",
        "True/False Positive/Negatives\n",
        "\n",
        "Test set. \n",
        "Pick examples from each class that are correcly and incorreclty classified. \n",
        "True/False Positive/Negatives\n"
      ]
    },
    {
      "cell_type": "code",
      "execution_count": 378,
      "metadata": {
        "id": "R-NtpDz-Mkub"
      },
      "outputs": [
        {
          "name": "stdout",
          "output_type": "stream",
          "text": [
            "Training set examples for true/false positive/negative\n",
            "Correctly classified: \n"
          ]
        },
        {
          "data": {
            "image/png": "[encoded data removed]",
            "text/plain": [
              "<Figure size 500x1200 with 30 Axes>"
            ]
          },
          "metadata": {},
          "output_type": "display_data"
        },
        {
          "name": "stdout",
          "output_type": "stream",
          "text": [
            "Incorrectly classified:\n"
          ]
        },
        {
          "data": {
            "image/png": "[encoded data removed]",
            "text/plain": [
              "<Figure size 500x1200 with 30 Axes>"
            ]
          },
          "metadata": {},
          "output_type": "display_data"
        }
      ],
      "source": [
        "# TODO \n",
        "# Training set\n",
        "print(\"Training set examples for true/false positive/negative\")\n",
        "Y_hat, caches = forward(train_x, params)\n",
        "Y_hat = Y_hat.T\n",
        "Y_hat = np.argmax(Y_hat, axis=1)\n",
        "\n",
        "def shuffle_three(a, b, c):\n",
        "    index = np.random.permutation(a.shape[0])\n",
        "    return a[index], b[index], c[index]\n",
        "\n",
        "Y_hat, tr_y, tr_x = shuffle_three(Y_hat, train_y, train_x.T)\n",
        "\n",
        "# j images per plot\n",
        "j = 3\n",
        "\n",
        "print(\"Correctly classified: \")\n",
        "# filter correct correct\n",
        "correct_x = tr_x[tr_y == Y_hat]\n",
        "correct_l = tr_y[tr_y == Y_hat]\n",
        "uniques = np.unique(correct_l)\n",
        "\n",
        "fig = plt.figure(figsize=(5, 12))\n",
        "# iterate through uniques\n",
        "for i in range(0, len(uniques)):\n",
        "    # filter x's which match the class\n",
        "    curr_x = correct_x[correct_l == uniques[i]]\n",
        "    # iterate j times to display image\n",
        "    for col in range(0, j):\n",
        "        ax = fig.add_subplot(len(uniques), j, i*j + col + 1)\n",
        "        img = plt.imshow(curr_x[col].reshape(28, 28))\n",
        "        ax.axis(\"off\")\n",
        "plt.subplots_adjust(wspace=0, hspace=0)\n",
        "plt.show()\n",
        "\n",
        "print(\"Incorrectly classified:\")\n",
        "# filter correct correct\n",
        "incorrect_x = tr_x[tr_y != Y_hat]\n",
        "incorrect_l = Y_hat[tr_y != Y_hat]\n",
        "uniques = np.unique(incorrect_l)\n",
        "\n",
        "fig = plt.figure(figsize=(5, 12))\n",
        "# iterate through uniques\n",
        "for i in range(0, len(uniques)):\n",
        "    # filter x's which match the class\n",
        "    curr_x = incorrect_x[incorrect_l == uniques[i]]\n",
        "    # iterate j times to display image\n",
        "    for col in range(0, j):\n",
        "        ax = fig.add_subplot(len(uniques), j, i*j + col + 1)\n",
        "        img = plt.imshow(curr_x[col].reshape(28, 28))\n",
        "        if col == 0:\n",
        "            ax.set_ylabel(f\"Guess {i}\")\n",
        "            ax.set_yticklabels([])\n",
        "        else:\n",
        "            ax.axis(\"off\")\n",
        "plt.subplots_adjust(wspace=0, hspace=0)\n",
        "plt.show()"
      ]
    },
    {
      "cell_type": "code",
      "execution_count": 379,
      "metadata": {},
      "outputs": [
        {
          "name": "stdout",
          "output_type": "stream",
          "text": [
            "Test set examples for true/false positive/negative\n",
            "Correctly classified: \n"
          ]
        },
        {
          "data": {
            "image/png": "[encoded data removed]",
            "text/plain": [
              "<Figure size 500x1200 with 30 Axes>"
            ]
          },
          "metadata": {},
          "output_type": "display_data"
        },
        {
          "name": "stdout",
          "output_type": "stream",
          "text": [
            "Incorrectly classified:\n"
          ]
        },
        {
          "data": {
            "image/png": "[encoded data removed]",
            "text/plain": [
              "<Figure size 500x1200 with 30 Axes>"
            ]
          },
          "metadata": {},
          "output_type": "display_data"
        }
      ],
      "source": [
        "# TODO \n",
        "# test set\n",
        "print(\"Test set examples for true/false positive/negative\")\n",
        "Y_hat, caches = forward(test_x, params)\n",
        "Y_hat = Y_hat.T\n",
        "Y_hat = np.argmax(Y_hat, axis=1)\n",
        "\n",
        "def shuffle_three(a, b, c):\n",
        "    index = np.random.permutation(a.shape[0])\n",
        "    return a[index], b[index], c[index]\n",
        "\n",
        "Y_hat, te_y, te_x = shuffle_three(Y_hat, test_y, test_x.T)\n",
        "\n",
        "# j images per plot\n",
        "j = 3\n",
        "\n",
        "print(\"Correctly classified: \")\n",
        "# filter correct correct\n",
        "correct_x = te_x[te_y == Y_hat]\n",
        "correct_l = te_y[te_y == Y_hat]\n",
        "uniques = np.unique(correct_l)\n",
        "\n",
        "fig = plt.figure(figsize=(5, 12))\n",
        "# iterate through uniques\n",
        "for i in range(0, len(uniques)):\n",
        "    # filter x's which match the class\n",
        "    curr_x = correct_x[correct_l == uniques[i]]\n",
        "    # iterate j times to display image\n",
        "    for col in range(0, j):\n",
        "        ax = fig.add_subplot(len(uniques), j, i*j + col + 1)\n",
        "        img = plt.imshow(curr_x[col].reshape(28, 28))\n",
        "        ax.axis(\"off\")\n",
        "plt.subplots_adjust(wspace=0, hspace=0)\n",
        "plt.show()\n",
        "\n",
        "print(\"Incorrectly classified:\")\n",
        "# filter correct correct\n",
        "incorrect_x = te_x[te_y != Y_hat]\n",
        "incorrect_l = Y_hat[te_y != Y_hat]\n",
        "uniques = np.unique(incorrect_l)\n",
        "\n",
        "fig = plt.figure(figsize=(5, 12))\n",
        "# iterate through uniques\n",
        "for i in range(0, len(uniques)):\n",
        "    # filter x's which match the class\n",
        "    curr_x = incorrect_x[incorrect_l == uniques[i]]\n",
        "    # iterate j times to display image\n",
        "    for col in range(0, j):\n",
        "        ax = fig.add_subplot(len(uniques), j, i*j + col + 1)\n",
        "        img = plt.imshow(curr_x[col].reshape(28, 28))\n",
        "        if col == 0:\n",
        "            ax.set_ylabel(f\"Guess {i}\")\n",
        "            ax.set_yticklabels([])\n",
        "        else:\n",
        "            ax.axis(\"off\")\n",
        "plt.subplots_adjust(wspace=0, hspace=0)\n",
        "plt.show()"
      ]
    },
    {
      "cell_type": "markdown",
      "metadata": {
        "id": "tU1ZfPTjv-jm"
      },
      "source": [
        "### Note about implementation\n",
        "\n",
        "This is a note on two problems I have seen in the past and how they can be easily fixed. \n",
        "\n",
        "1. Summation along different axes ? \n",
        "\n",
        "2. Summation of gradients over samples ? \n",
        "\n",
        "\n",
        "\n",
        "\n",
        "**1. Summation to create probability vectors in the Softmax function**\n",
        "\n",
        "Suppose X is a d x N array, in our case, it is 784 x 10000. \n",
        "\n",
        "`Z2 = W2 Y1 + b2  will be 10 x 10000 array `\n",
        "\n",
        "\n",
        "\n",
        "`softmax(Z2)` will be a `10 x 10000` array in which we want to apply a softmax function on every column of `Z2` by first computing exponential and then normalizing the column to sum to 1, which is needed for it to be a probability vector. \n",
        "\n",
        "\n",
        "\n",
        "\n",
        "We can do that as \n",
        "```\n",
        "probs = np.exp(Z2) \n",
        "\n",
        "# now you want to sum up each column and divide the column by the sum so that each column is a valid probability vector\n",
        "\n",
        "probs /= np.sum(probs,axis=0,keepdims=True) # this makes sum of each column to 1\n",
        "```\n",
        "\n",
        "The **WRONG** thing to do is\n",
        "```\n",
        "probs /= np.sum(probs) \n",
        "# This is WRONG. np.sum() computes sum of the entire array. \n",
        "```\n",
        "\n",
        "\n",
        "\n",
        "**2. Computing gradient for the entire loss function**\n",
        "\n",
        "(this involves summation of N rank-one matrices in our notation.)\n",
        "\n",
        "\n",
        "\n",
        "\n",
        "Suppose you have computed delta1, delta2 properly\n",
        "\n",
        "\n",
        "\n",
        "\n",
        "Let's assume you computed\n",
        "```\n",
        "# delta2 is a 10 x 10000 array\n",
        "# Y1 is a 256 x 10000 array\n",
        "# N is 10000\n",
        "# grad_W2 should be a 10 x 256 array\n",
        "```\n",
        "\n",
        "\n",
        "\n",
        "We can expand the formula for the gradient of the overall loss. \n",
        "\n",
        "$$\\nabla_{W^{(2)}} Loss = \\frac{1}{N}\\sum_i \\nabla_{W^{(2)}} Loss_i, $$ \n",
        "\n",
        "where \n",
        "\n",
        "$$\\nabla_{W^{(2)}} Loss_i = \\delta^{(2)} y^{(1)T} $$\n",
        "\n",
        "is the gradient of the loss for $i$th training sample, where $\\delta^{(2)}$ is a column of length 10 and $y^{(1)T}$ is a row of length 256, corresponding to $i$th training sample. Matrix product of column and row gives a a rank-1 matrix of size 10 x 256. \n",
        "\n",
        "\n",
        "\n",
        "\n",
        "To compute the gradient of loss over all the training samples, we need to average the rank-1 matrices for all N training samples.\n",
        "\n",
        "\n",
        "We can write the code for that as \n",
        "\n",
        "```\n",
        "# Sum gradient of loss for each sample\n",
        "for i in range(N):\n",
        "\tgrad_W2 += (1/N)*delta2[:,i,None].dot(Y1[:,i,None].T)\n",
        "\n",
        "# OR we can compute grad_W2 without for loop as \n",
        "grad_W2 = 1/N*np.dot(delta2,Y1.T)\n",
        "```\n",
        "\n",
        "To see why this is true, you can convince yourself that matrix product of an `M x N` matrix with an `N x K` matrix can be written as a summation of N `M x K` rank-one matricess. \n",
        "\n",
        "\n",
        "\n",
        "\n",
        "Suppose \n",
        "\n",
        "$A = [\\mathbf{a}_1 ~ \\cdots ~ \\mathbf{a}_N] \\text{ and } B  = \\begin{bmatrix} \\mathbf{b}_1^T \\\\ \\vdots \\\\ \\mathbf{b}_N^T \\end{bmatrix},$\n",
        "\n",
        "where $\\mathbf{a}_i, \\mathbf{b}_i$ are columns of length $M, K$, respectively.  \n",
        "\n",
        " \n",
        "\n",
        "We can write $AB$ as \n",
        "\n",
        "\n",
        "\n",
        "\n",
        "$$AB = \\sum_{i = 1}^N \\mathbf{a}_i \\mathbf{b}_i^T.$$ \n",
        "\n",
        "\n",
        "\n",
        "\n",
        " \n"
      ]
    },
    {
      "cell_type": "markdown",
      "metadata": {
        "id": "WecX82dMRrVo"
      },
      "source": [
        "---\n",
        "## Submission instructions\n",
        "1. Download this Colab to ipynb, and convert it to PDF. Follow similar steps as [here](https://stackoverflow.com/questions/53460051/convert-ipynb-notebook-to-html-in-google-colab) but convert to PDF.\n",
        " - Download your .ipynb file. You can do it using only Google Colab. `File` -> `Download` -> `Download .ipynb`\n",
        " - Reupload it so Colab can see it. Click on the `Files` icon on the far left to expand the side bar. You can directly drag the downloaded .ipynb file to the area. Or click `Upload to session storage` icon and then select & upload your .ipynb file.\n",
        " - Conversion using %%shell. \n",
        " ```\n",
        "!sudo apt-get update\n",
        "!sudo apt-get install texlive-xetex texlive-fonts-recommended texlive-generic-recommended\n",
        "!jupyter nbconvert --log-level CRITICAL --to pdf name_of_hw.ipynb\n",
        "  ```\n",
        " - Your PDF file is ready. Click 3 dots and `Download`.\n",
        "\n",
        "\n",
        "  \n",
        "\n",
        "2. Upload the PDF to Gradescope, select the correct pdf pages for each question. **Important!**\n",
        "\n",
        "3. Upload the ipynb file to Gradescope\n",
        "\n",
        "\n",
        "Notice:\n",
        "In case of errors in conversion, please check your LaTeX and debug. In Markdown, when you write in LaTeX math mode, do not leave any leading and trailing whitespaces inside the dollar signs ($). For example, write `(dollarSign)\\mathbf(dollarSign)(dollarSign)` instead of `(dollarSign)(space)\\mathbf{w}(dollarSign)`. Otherwise, nbconvert will throw an error and the generated pdf will be incomplete. [This is a bug of nbconvert.](https://tex.stackexchange.com/questions/367176/jupyter-notebook-latex-conversion-fails-escaped-and-other-symbols)\n"
      ]
    },
    {
      "cell_type": "code",
      "execution_count": 380,
      "metadata": {
        "id": "ub1l1I4ZRqSS"
      },
      "outputs": [
        {
          "name": "stderr",
          "output_type": "stream",
          "text": [
            "'sudo' is not recognized as an internal or external command,\n",
            "operable program or batch file.\n",
            "'sudo' is not recognized as an internal or external command,\n",
            "operable program or batch file.\n"
          ]
        }
      ],
      "source": [
        "!sudo apt-get update\n",
        "!sudo apt-get install texlive-xetex texlive-fonts-recommended texlive-generic-recommended"
      ]
    },
    {
      "cell_type": "code",
      "execution_count": 381,
      "metadata": {
        "id": "M2XuF-qZ_-fk"
      },
      "outputs": [
        {
          "name": "stderr",
          "output_type": "stream",
          "text": [
            "usage: jupyter [-h] [--version] [--config-dir] [--data-dir] [--runtime-dir]\n",
            "               [--paths] [--json] [--debug]\n",
            "               [subcommand]\n",
            "\n",
            "Jupyter: Interactive Computing\n",
            "\n",
            "positional arguments:\n",
            "  subcommand     the subcommand to launch\n",
            "\n",
            "optional arguments:\n",
            "  -h, --help     show this help message and exit\n",
            "  --version      show the versions of core jupyter packages and exit\n",
            "  --config-dir   show Jupyter config dir\n",
            "  --data-dir     show Jupyter data dir\n",
            "  --runtime-dir  show Jupyter runtime dir\n",
            "  --paths        show all Jupyter paths. Add --json for machine-readable\n",
            "                 format.\n",
            "  --json         output paths as machine-readable json\n",
            "  --debug        output debug information about paths\n",
            "\n",
            "Available subcommands: kernel kernelspec migrate run troubleshoot\n",
            "\n",
            "Jupyter command `jupyter-nbconvert` not found.\n"
          ]
        }
      ],
      "source": [
        "!jupyter nbconvert --log-level CRITICAL --to pdf fall2022_hw3.ipynb # make sure the ipynb name is correct"
      ]
    },
    {
      "cell_type": "code",
      "execution_count": null,
      "metadata": {
        "id": "kMCJzii39h4d"
      },
      "outputs": [],
      "source": []
    }
  ],
  "metadata": {
    "colab": {
      "collapsed_sections": [],
      "provenance": []
    },
    "kernelspec": {
      "display_name": "Python 3.7.7 ('venv': venv)",
      "language": "python",
      "name": "python3"
    },
    "language_info": {
      "codemirror_mode": {
        "name": "ipython",
        "version": 3
      },
      "file_extension": ".py",
      "mimetype": "text/x-python",
      "name": "python",
      "nbconvert_exporter": "python",
      "pygments_lexer": "ipython3",
      "version": "3.9.13"
    },
    "vscode": {
      "interpreter": {
        "hash": "8e13edb9e5b40396c25dfd873633e1bf474f4528c0aae2b5721ba07ba0e904c7"
      }
    }
  },
  "nbformat": 4,
  "nbformat_minor": 0
}
